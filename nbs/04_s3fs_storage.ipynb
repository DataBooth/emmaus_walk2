{
 "metadata": {
  "language_info": {
   "codemirror_mode": {
    "name": "ipython",
    "version": 3
   },
   "file_extension": ".py",
   "mimetype": "text/x-python",
   "name": "python",
   "nbconvert_exporter": "python",
   "pygments_lexer": "ipython3",
   "version": "3.9.6"
  },
  "orig_nbformat": 4,
  "kernelspec": {
   "name": "python3",
   "display_name": "Python 3.9.6 64-bit ('emmaus_walking_py38': conda)"
  },
  "interpreter": {
   "hash": "a22d2645d3afe98160956a5bd9591f63a934537cdda62e90bef32e6cf34fead0"
  }
 },
 "nbformat": 4,
 "nbformat_minor": 2,
 "cells": [
  {
   "cell_type": "code",
   "execution_count": 1,
   "metadata": {},
   "outputs": [],
   "source": [
    "import tomli\n",
    "from pathlib import Path\n",
    "import boto3\n",
    "import s3fs\n",
    "import activityio as aio\n",
    "import pandas as pd\n",
    "import tempfile"
   ]
  },
  {
   "cell_type": "code",
   "execution_count": 2,
   "metadata": {},
   "outputs": [],
   "source": [
    "def load_config_file(config_file):\n",
    "    with open(Path('..')/config_file, encoding=\"utf-8\") as f:\n",
    "        app_config = tomli.load(f)\n",
    "    return app_config"
   ]
  },
  {
   "cell_type": "code",
   "execution_count": 3,
   "metadata": {},
   "outputs": [],
   "source": [
    "APP_CONFIG_FILE = 'app_config.toml'\n",
    "app_config = load_config_file(APP_CONFIG_FILE)"
   ]
  },
  {
   "cell_type": "code",
   "execution_count": 4,
   "metadata": {},
   "outputs": [
    {
     "output_type": "execute_result",
     "data": {
      "text/plain": [
       "{'APP': {'DATASOURCE': 'Apple Watch via Health Fit',\n",
       "  'AUTHOR': 'by [DataBooth.com.au](https://www.databooth.com.au)',\n",
       "  'NAME': 'Emmaus Walking Mapping App',\n",
       "  'CACHED_DATAFILE': 'emmaus_walking.cache.feather',\n",
       "  'LAYOUT': 'wide'},\n",
       " 'S3': {'ACCESS_KEY_ID': 'SCW5MSNHMS37P6Q0ZZV2',\n",
       "  'SECRET_ACCESS_KEY': 'app_secrets.toml',\n",
       "  'STORAGE_BUCKET_NAME': 'emmaus-walking',\n",
       "  'DEFAULT_ACL': 'public-read',\n",
       "  'REGION_NAME': 'fr-par',\n",
       "  'ENDPOINT_URL': 'https://s3.fr-par.scw.cloud'}}"
      ]
     },
     "metadata": {},
     "execution_count": 4
    }
   ],
   "source": [
    "app_config"
   ]
  },
  {
   "cell_type": "code",
   "execution_count": 5,
   "metadata": {},
   "outputs": [],
   "source": [
    "APP_SECRETS_FILE = 'app_secrets.toml'\n",
    "app_secrets = load_config_file(APP_SECRETS_FILE)"
   ]
  },
  {
   "cell_type": "code",
   "execution_count": 6,
   "metadata": {},
   "outputs": [],
   "source": [
    "s3 = s3fs.S3FileSystem(key=app_config['S3']['ACCESS_KEY_ID'],\n",
    "        secret=app_secrets['S3']['SECRET_ACCESS_KEY'],\n",
    "        client_kwargs=dict(endpoint_url=app_config['S3']['ENDPOINT_URL'],\n",
    "            region_name=app_config['S3']['REGION_NAME']))\n"
   ]
  },
  {
   "cell_type": "code",
   "execution_count": 7,
   "metadata": {},
   "outputs": [],
   "source": [
    "s3_test_path = 'emmaus-walking/data/FIT/B2M/'"
   ]
  },
  {
   "cell_type": "code",
   "execution_count": 8,
   "metadata": {},
   "outputs": [],
   "source": [
    "B2M_files = s3.ls(s3_test_path)"
   ]
  },
  {
   "cell_type": "code",
   "execution_count": 9,
   "metadata": {},
   "outputs": [],
   "source": [
    "import urllib.parse   # this doesn't solve the filename problem\n",
    "\n",
    "def fix_filename(filename):\n",
    "    return urllib.parse.quote(filename)"
   ]
  },
  {
   "cell_type": "code",
   "execution_count": 10,
   "metadata": {},
   "outputs": [],
   "source": [
    "B2M_files = [fix_filename(file) for file in B2M_files]"
   ]
  },
  {
   "cell_type": "code",
   "execution_count": 11,
   "metadata": {},
   "outputs": [],
   "source": [
    "BAD_str = '2020-07-13-085452-Walking-Michael and Ai Leen’s Apple\\xa0Watch.fit'"
   ]
  },
  {
   "cell_type": "code",
   "execution_count": 12,
   "metadata": {},
   "outputs": [
    {
     "output_type": "error",
     "ename": "NameError",
     "evalue": "name 'OK_str' is not defined",
     "traceback": [
      "\u001b[0;31m---------------------------------------------------------------------------\u001b[0m",
      "\u001b[0;31mNameError\u001b[0m                                 Traceback (most recent call last)",
      "\u001b[0;32m/var/folders/_6/5btwyp417kb5tky1dhxm68000000gn/T/ipykernel_59072/1923410346.py\u001b[0m in \u001b[0;36m<module>\u001b[0;34m\u001b[0m\n\u001b[0;32m----> 1\u001b[0;31m \u001b[0;32massert\u001b[0m \u001b[0;34m[\u001b[0m\u001b[0mbytes\u001b[0m\u001b[0;34m(\u001b[0m\u001b[0mchar\u001b[0m\u001b[0;34m,\u001b[0m \u001b[0;34m'utf-8'\u001b[0m\u001b[0;34m)\u001b[0m \u001b[0;32mfor\u001b[0m \u001b[0mchar\u001b[0m \u001b[0;32min\u001b[0m \u001b[0mBAD_str\u001b[0m\u001b[0;34m]\u001b[0m \u001b[0;34m==\u001b[0m \u001b[0;34m[\u001b[0m\u001b[0mbytes\u001b[0m\u001b[0;34m(\u001b[0m\u001b[0mchar\u001b[0m\u001b[0;34m,\u001b[0m \u001b[0;34m'utf-8'\u001b[0m\u001b[0;34m)\u001b[0m \u001b[0;32mfor\u001b[0m \u001b[0mchar\u001b[0m \u001b[0;32min\u001b[0m \u001b[0mOK_str\u001b[0m\u001b[0;34m]\u001b[0m\u001b[0;34m\u001b[0m\u001b[0;34m\u001b[0m\u001b[0m\n\u001b[0m",
      "\u001b[0;31mNameError\u001b[0m: name 'OK_str' is not defined"
     ]
    }
   ],
   "source": [
    "assert [bytes(char, 'utf-8') for char in BAD_str] == [bytes(char, 'utf-8') for char in OK_str]"
   ]
  },
  {
   "cell_type": "code",
   "execution_count": 52,
   "metadata": {},
   "outputs": [],
   "source": [
    "OK_str = '2020-07-13-085452-Walking-Michael and Ai Leen’s Apple Watch.fit'"
   ]
  },
  {
   "cell_type": "code",
   "execution_count": 59,
   "metadata": {},
   "outputs": [],
   "source": [
    "[bytes(char, 'utf-8') for char in OK_str];"
   ]
  },
  {
   "cell_type": "code",
   "execution_count": 67,
   "metadata": {},
   "outputs": [
    {
     "output_type": "execute_result",
     "data": {
      "text/plain": [
       "['emmaus-walking/data/FIT/B2M/2020-07-13-085452-Walking-Michael%2520and%2520Ai%2520Leen%25E2%2580%2599s%2520Apple%25C2%25A0Watch.fit',\n",
       " 'emmaus-walking/data/FIT/B2M/2020-07-20-085713-Walking-Michael%2520and%2520Ai%2520Leen%25E2%2580%2599s%2520Apple%25C2%25A0Watch.fit',\n",
       " 'emmaus-walking/data/FIT/B2M/2020-07-28-104039-Walking-Michael%2520and%2520Ai%2520Leen%25E2%2580%2599s%2520Apple%25C2%25A0Watch.fit',\n",
       " 'emmaus-walking/data/FIT/B2M/2020-08-14-110916-Walking-Michael%2520and%2520Ai%2520Leen%25E2%2580%2599s%2520Apple%25C2%25A0Watch.fit',\n",
       " 'emmaus-walking/data/FIT/B2M/2020-08-21-123755-Walking-Michael%2520and%2520Ai%2520Leen%25E2%2580%2599s%2520Apple%25C2%25A0Watch.fit',\n",
       " 'emmaus-walking/data/FIT/B2M/2020-08-28-112353-Walking-Michael%2520and%2520Ai%2520Leen%25E2%2580%2599s%2520Apple%25C2%25A0Watch.ORIG',\n",
       " 'emmaus-walking/data/FIT/B2M/2020-08-28-112353-Walking-Michael%2520and%2520Ai%2520Leen%25E2%2580%2599s%2520Apple%25C2%25A0Watch.fit',\n",
       " 'emmaus-walking/data/FIT/B2M/2020-08-28-112353-Walking-Michael%2520and%2520Ai%2520Leen%25E2%2580%2599s%2520Apple%25C2%25A0Watch_tmp.fit.OFF',\n",
       " 'emmaus-walking/data/FIT/B2M/2020-09-04-104005-Walking-Michael%2520and%2520Ai%2520Leen%25E2%2580%2599s%2520Apple%25C2%25A0Watch.fit',\n",
       " 'emmaus-walking/data/FIT/B2M/2020-09-04-104005-Walking-Michael%2520and%2520Ai%2520Leen%25E2%2580%2599s%2520Apple%25C2%25A0Watch.fit.ORIG',\n",
       " 'emmaus-walking/data/FIT/B2M/M2P']"
      ]
     },
     "metadata": {},
     "execution_count": 67
    }
   ],
   "source": [
    "B2M_files"
   ]
  },
  {
   "cell_type": "code",
   "execution_count": 19,
   "metadata": {},
   "outputs": [],
   "source": [
    "# Try dowloading a file and importing into Pandas - now working - but I'm having to use a tmp file to save/ then pd.read\n",
    "\n",
    "def pd_read_fit_s3(filename):\n",
    "    with s3.open(filename, mode='rb') as f:\n",
    "        #print(f.info()['name'])\n",
    "        with tempfile.TemporaryDirectory() as tmp_dirname:\n",
    "            with open(Path(tmp_dirname)/'tmp.fit', 'wb') as f_fit:\n",
    "                f_fit.write(f.read())\n",
    "                fit_df = pd.DataFrame(aio.read(Path(tmp_dirname)/'tmp.fit'))\n",
    "    return fit_df, f.info()['name'], f.info()['size']\n"
   ]
  },
  {
   "cell_type": "code",
   "execution_count": 20,
   "metadata": {},
   "outputs": [],
   "source": [
    "#test_file = s3_test_path + B2M_files[0]\n",
    "test_file = s3_test_path + '2020-07-13-085452-Walking-Michael and Ai Leen’s Apple Watch.fit'"
   ]
  },
  {
   "cell_type": "code",
   "execution_count": 23,
   "metadata": {},
   "outputs": [],
   "source": [
    "fit_df, fit_name, fit_size = pd_read_fit_s3(test_file)"
   ]
  },
  {
   "cell_type": "code",
   "execution_count": 18,
   "metadata": {},
   "outputs": [
    {
     "output_type": "execute_result",
     "data": {
      "text/plain": [
       "                 fractional_cadence_rpm  lap   alt   cad  dist        lat  \\\n",
       "time                                                                        \n",
       "0 days 00:00:00                0.703125    1  21.6  43.0  0.32 -33.890540   \n",
       "0 days 00:00:01                0.703125    1  21.6  43.0  1.77 -33.890548   \n",
       "0 days 00:00:02                0.703125    1  21.6  43.0  3.28 -33.890557   \n",
       "0 days 00:00:03                0.085938    1  21.6  44.0  4.78 -33.890566   \n",
       "0 days 00:00:04                0.085938    1  21.6  44.0  6.20 -33.890574   \n",
       "\n",
       "                        lon  speed  temp  \n",
       "time                                      \n",
       "0 days 00:00:00  151.274833  1.475  12.0  \n",
       "0 days 00:00:01  151.274844  1.472  12.0  \n",
       "0 days 00:00:02  151.274856  1.465  12.0  \n",
       "0 days 00:00:03  151.274868  1.457  12.0  \n",
       "0 days 00:00:04  151.274879  1.446  12.0  "
      ],
      "text/html": "<div>\n<style scoped>\n    .dataframe tbody tr th:only-of-type {\n        vertical-align: middle;\n    }\n\n    .dataframe tbody tr th {\n        vertical-align: top;\n    }\n\n    .dataframe thead th {\n        text-align: right;\n    }\n</style>\n<table border=\"1\" class=\"dataframe\">\n  <thead>\n    <tr style=\"text-align: right;\">\n      <th></th>\n      <th>fractional_cadence_rpm</th>\n      <th>lap</th>\n      <th>alt</th>\n      <th>cad</th>\n      <th>dist</th>\n      <th>lat</th>\n      <th>lon</th>\n      <th>speed</th>\n      <th>temp</th>\n    </tr>\n    <tr>\n      <th>time</th>\n      <th></th>\n      <th></th>\n      <th></th>\n      <th></th>\n      <th></th>\n      <th></th>\n      <th></th>\n      <th></th>\n      <th></th>\n    </tr>\n  </thead>\n  <tbody>\n    <tr>\n      <th>0 days 00:00:00</th>\n      <td>0.703125</td>\n      <td>1</td>\n      <td>21.6</td>\n      <td>43.0</td>\n      <td>0.32</td>\n      <td>-33.890540</td>\n      <td>151.274833</td>\n      <td>1.475</td>\n      <td>12.0</td>\n    </tr>\n    <tr>\n      <th>0 days 00:00:01</th>\n      <td>0.703125</td>\n      <td>1</td>\n      <td>21.6</td>\n      <td>43.0</td>\n      <td>1.77</td>\n      <td>-33.890548</td>\n      <td>151.274844</td>\n      <td>1.472</td>\n      <td>12.0</td>\n    </tr>\n    <tr>\n      <th>0 days 00:00:02</th>\n      <td>0.703125</td>\n      <td>1</td>\n      <td>21.6</td>\n      <td>43.0</td>\n      <td>3.28</td>\n      <td>-33.890557</td>\n      <td>151.274856</td>\n      <td>1.465</td>\n      <td>12.0</td>\n    </tr>\n    <tr>\n      <th>0 days 00:00:03</th>\n      <td>0.085938</td>\n      <td>1</td>\n      <td>21.6</td>\n      <td>44.0</td>\n      <td>4.78</td>\n      <td>-33.890566</td>\n      <td>151.274868</td>\n      <td>1.457</td>\n      <td>12.0</td>\n    </tr>\n    <tr>\n      <th>0 days 00:00:04</th>\n      <td>0.085938</td>\n      <td>1</td>\n      <td>21.6</td>\n      <td>44.0</td>\n      <td>6.20</td>\n      <td>-33.890574</td>\n      <td>151.274879</td>\n      <td>1.446</td>\n      <td>12.0</td>\n    </tr>\n  </tbody>\n</table>\n</div>"
     },
     "metadata": {},
     "execution_count": 18
    }
   ],
   "source": [
    "fit_df.head()"
   ]
  },
  {
   "cell_type": "code",
   "execution_count": 25,
   "metadata": {},
   "outputs": [
    {
     "output_type": "execute_result",
     "data": {
      "text/plain": [
       "['emmaus-walking/data/FIT/B2M/2020-07-13-085452-Walking-Michael and Ai Leen’s Apple\\xa0Watch.fit',\n",
       " 329534]"
      ]
     },
     "metadata": {},
     "execution_count": 25
    }
   ],
   "source": [
    "[fit_name, fit_size]"
   ]
  },
  {
   "cell_type": "code",
   "execution_count": 13,
   "metadata": {},
   "outputs": [],
   "source": [
    "# s3.download(rpath='emmaus-walking/data/FIT/B2M', lpath='/Users/mjboothaus/tmp/scaleway_tmp/B2M', recursive=True)"
   ]
  },
  {
   "cell_type": "code",
   "execution_count": 14,
   "metadata": {},
   "outputs": [],
   "source": [
    "# Not sure how to make this work\n",
    "# df = pd.read_excel(\"s3://bucket/path/file.xls\", storage_options={\"anon\": True})"
   ]
  },
  {
   "cell_type": "code",
   "execution_count": null,
   "metadata": {},
   "outputs": [],
   "source": []
  }
 ]
}