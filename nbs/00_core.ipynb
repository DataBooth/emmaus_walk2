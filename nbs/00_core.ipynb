{
 "cells": [
  {
   "cell_type": "code",
   "execution_count": 1,
   "metadata": {},
   "outputs": [],
   "source": [
    "# default_exp core\n",
    "from nbdev import *"
   ]
  },
  {
   "cell_type": "markdown",
   "metadata": {},
   "source": [
    "# Core\n",
    "\n",
    "> Emmaus Walking App - Core module. Common re-useable functions."
   ]
  },
  {
   "cell_type": "code",
   "execution_count": 2,
   "metadata": {},
   "outputs": [],
   "source": [
    "#hide\n",
    "from nbdev.showdoc import *"
   ]
  },
  {
   "cell_type": "code",
   "execution_count": 3,
   "metadata": {},
   "outputs": [],
   "source": [
    "#export\n",
    "import sys\n",
    "\n",
    "def in_notebook():\n",
    "    \"\"\"\n",
    "    Returns ``True`` if the module is running in IPython kernel,\n",
    "    ``False`` if in IPython shell or other Python shell.\n",
    "    \"\"\"\n",
    "    return 'ipykernel' in sys.modules\n",
    "\n",
    "# later I found out this:\n",
    "\n",
    "def ipython_info():\n",
    "    ip = False\n",
    "    if 'ipykernel' in sys.modules:\n",
    "        ip = 'notebook'\n",
    "    elif 'IPython' in sys.modules:\n",
    "        ip = 'terminal'\n",
    "    return ip"
   ]
  }
 ],
 "metadata": {
  "kernelspec": {
   "display_name": ".venv",
   "language": "python",
   "name": ".venv"
  },
  "language_info": {
   "codemirror_mode": {
    "name": "ipython",
    "version": 3
   },
   "file_extension": ".py",
   "mimetype": "text/x-python",
   "name": "python",
   "nbconvert_exporter": "python",
   "pygments_lexer": "ipython3",
   "version": "3.8.7"
  }
 },
 "nbformat": 4,
 "nbformat_minor": 2
}
