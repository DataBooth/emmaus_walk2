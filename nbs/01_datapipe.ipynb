{
 "cells": [
  {
   "cell_type": "code",
   "execution_count": null,
   "metadata": {},
   "outputs": [],
   "source": [
    "from nbdev import *"
   ]
  },
  {
   "cell_type": "code",
   "execution_count": null,
   "metadata": {},
   "outputs": [
    {
     "name": "stdout",
     "output_type": "stream",
     "text": [
      "Cells will be exported to emmaus_walking.datapipe,\n",
      "unless a different module is specified after an export flag: `%nbdev_export special.module`\n"
     ]
    }
   ],
   "source": [
    "%nbdev_default_export datapipe"
   ]
  },
  {
   "cell_type": "markdown",
   "metadata": {},
   "source": [
    "# Datapipe - Emmaus Walking Streamlit App\n",
    "\n",
    "> This is the module for creating the data pipeline.\n",
    "> It can also be used to perform the data pre-processing and caching."
   ]
  },
  {
   "cell_type": "code",
   "execution_count": null,
   "metadata": {},
   "outputs": [],
   "source": [
    "%nbdev_export_internal\n",
    "import os\n",
    "import pandas as pd\n",
    "import activityio as aio\n",
    "from dateutil.parser import parse\n",
    "import datetime as dt"
   ]
  },
  {
   "cell_type": "code",
   "execution_count": null,
   "metadata": {},
   "outputs": [],
   "source": [
    "%nbdev_export\n",
    "def calc_walk_stats(walk_data):\n",
    "    total_time = dt.timedelta(0)\n",
    "    total_distance = 0\n",
    "\n",
    "    for iHike, hike in enumerate(walk_data):\n",
    "        total_time += hike.index.max()\n",
    "        # print(iHike+1, walk_date[iHike], hike.index.max(), hike['dist'].max() / 1e3)\n",
    "        total_distance += hike['dist'].max()\n",
    "    total_distance /= 1e3\n",
    "\n",
    "    start_coord = walk_data[0][['lat', 'lon']].iloc[0].tolist()\n",
    "    end_coord = walk_data[-1][['lat', 'lon']].iloc[-1].tolist()\n",
    "    return total_time, total_distance, start_coord, end_coord\n",
    "\n",
    "\n",
    "# TODO: use st.cache() and also look to pre-load and cache/feather data (or similar) - NB: use of @st.cache() below didn't work\n",
    "def load_and_cache_raw_walk_data(walk_name, sample_freq):\n",
    "    FIT_FILE_PATH = '/Users/mjboothaus/iCloud/Data/HealthFit/'\n",
    "    data_dir = FIT_FILE_PATH + walk_name[0:3] + '/'\n",
    "    data_files = [file for file in os.listdir(data_dir) if file.endswith('.fit')]\n",
    "    walk_files = sorted(data_files)\n",
    "\n",
    "    walk_data = []\n",
    "    walk_date = []\n",
    "\n",
    "    for iFile, file in enumerate(walk_files):\n",
    "        walk_data.append(pd.DataFrame(aio.read(data_dir + file)))\n",
    "        walk_date.append(parse(file[0:17]))\n",
    "               \n",
    "    total_time, total_distance, start_coord, end_coord = calc_walk_stats(walk_data)\n",
    "    walk_merged = pd.concat(walk_data)\n",
    "    points = walk_merged[['lat', 'lon']].values.tolist()\n",
    "    points = [tuple(point) for ipoint, point in enumerate(points) if ipoint % sample_freq == 0]\n",
    "    return walk_data, walk_date, walk_files, points"
   ]
  },
  {
   "cell_type": "code",
   "execution_count": null,
   "metadata": {},
   "outputs": [],
   "source": [
    "walk_data, walk_date, walk_files, points = load_and_cache_raw_walk_data('B2M', 50)"
   ]
  },
  {
   "cell_type": "code",
   "execution_count": null,
   "metadata": {},
   "outputs": [
    {
     "data": {
      "text/plain": [
       "921"
      ]
     },
     "execution_count": null,
     "metadata": {},
     "output_type": "execute_result"
    }
   ],
   "source": [
    "len(points)"
   ]
  }
 ],
 "metadata": {
  "kernelspec": {
   "display_name": ".venv_emmaus_walking",
   "language": "python",
   "name": ".venv_emmaus_walking"
  }
 },
 "nbformat": 4,
 "nbformat_minor": 4
}
