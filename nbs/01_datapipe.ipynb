{
 "cells": [
  {
   "cell_type": "code",
   "execution_count": 1,
   "metadata": {},
   "outputs": [],
   "source": [
    "# default_exp datapipe\n",
    "from nbdev import *"
   ]
  },
  {
   "cell_type": "markdown",
   "metadata": {},
   "source": [
    "# Datapipe - Emmaus Walking Streamlit App\n",
    "\n",
    "> This is the module for creating the data pipeline.\n",
    "> It should also be used to perform the data pre-processing and caching."
   ]
  },
  {
   "cell_type": "markdown",
   "metadata": {},
   "source": [
    "So what needs to be done:\n",
    "\n",
    "### Pre-process (prep) the data [do this ONCE and only ONCE - they put in some re-useable form e.g. Quilt on S3.\n",
    "\n",
    "0. Think about capturing walk metadata / do on a per-overall-walk basis \n",
    "1. Need to \"extract\" the data from the .fit files\n",
    "2. Clean/fix the data (e.g. allow for breaks in walk, change in order, not turning off walk at end)\n",
    "3. Concatenate into a single data-structure per overall walk \n",
    "4. Store in \"database\" e.g. sqlite, postgres?, files, or is Quilt sufficient?\n"
   ]
  },
  {
   "cell_type": "code",
   "execution_count": 2,
   "metadata": {},
   "outputs": [],
   "source": [
    "#export\n",
    "import os\n",
    "import pandas as pd\n",
    "import activityio as aio\n",
    "from dateutil.parser import parse\n",
    "import datetime as dt"
   ]
  },
  {
   "cell_type": "code",
   "execution_count": 3,
   "metadata": {},
   "outputs": [],
   "source": [
    "#export\n",
    "def calc_walk_stats(walk_data):\n",
    "    total_time = dt.timedelta(0)\n",
    "    total_distance = 0\n",
    "\n",
    "    for iHike, hike in enumerate(walk_data):\n",
    "        total_time += hike.index.max()\n",
    "        # print(iHike+1, walk_date[iHike], hike.index.max(), hike['dist'].max() / 1e3)\n",
    "        total_distance += hike['dist'].max()\n",
    "    total_distance /= 1e3\n",
    "\n",
    "    start_coord = walk_data[0][['lat', 'lon']].iloc[0].tolist()\n",
    "    end_coord = walk_data[-1][['lat', 'lon']].iloc[-1].tolist()\n",
    "    return total_time, total_distance, start_coord, end_coord\n",
    "\n",
    "\n",
    "# TODO: use st.cache() and also look to pre-load and cache/feather data (or similar) - NB: use of @st.cache() below didn't work\n",
    "def load_and_cache_raw_walk_data(walk_name, sample_freq):\n",
    "    FIT_FILE_PATH = '/Users/mjboothaus/iCloud/Data/HealthFit/'\n",
    "    data_dir = FIT_FILE_PATH + walk_name[0:3] + '/'\n",
    "    data_files = [file for file in os.listdir(data_dir) if file.endswith('.fit')]\n",
    "    walk_files = sorted(data_files)\n",
    "\n",
    "    walk_data = []\n",
    "    walk_date = []\n",
    "\n",
    "    for iFile, file in enumerate(walk_files):\n",
    "        walk_data.append(pd.DataFrame(aio.read(data_dir + file)))\n",
    "        walk_date.append(parse(file[0:17]))\n",
    "               \n",
    "    total_time, total_distance, start_coord, end_coord = calc_walk_stats(walk_data)\n",
    "    print(start_coord)\n",
    "    walk_merged = pd.concat(walk_data)\n",
    "    points = walk_merged[['lat', 'lon']].values.tolist()\n",
    "    points = [tuple(point) for ipoint, point in enumerate(points) if ipoint % sample_freq == 0]\n",
    "    return walk_data, walk_date, walk_files, points"
   ]
  },
  {
   "cell_type": "code",
   "execution_count": 4,
   "metadata": {},
   "outputs": [
    {
     "name": "stdout",
     "output_type": "stream",
     "text": [
      "[-33.84472858160734, 151.2182762939483]\n"
     ]
    }
   ],
   "source": [
    "walk_data, walk_date, walk_files, points = load_and_cache_raw_walk_data('B2M', 50)"
   ]
  },
  {
   "cell_type": "code",
   "execution_count": 5,
   "metadata": {},
   "outputs": [
    {
     "data": {
      "text/plain": [
       "796"
      ]
     },
     "execution_count": 5,
     "metadata": {},
     "output_type": "execute_result"
    }
   ],
   "source": [
    "len(points)"
   ]
  },
  {
   "cell_type": "code",
   "execution_count": 6,
   "metadata": {},
   "outputs": [],
   "source": [
    "points;"
   ]
  },
  {
   "cell_type": "markdown",
   "metadata": {},
   "source": [
    "### Extract GPS data from the photos for the walks where the GPS data was unavailable from sync issues with AppleWatch (7.0) and iPhone (14.0) update issues"
   ]
  },
  {
   "cell_type": "code",
   "execution_count": 7,
   "metadata": {},
   "outputs": [],
   "source": [
    "from GPSPhoto import gpsphoto # requires GPSPhoto, exifread & piexif libraries"
   ]
  },
  {
   "cell_type": "code",
   "execution_count": 8,
   "metadata": {},
   "outputs": [],
   "source": [
    "PHOTO_DIR1 = r'/Users/mjboothaus/iCloud/Data/HealthFit/B2M/M2P/Queenscliff & North Curl Curl, 21 September 2020/'"
   ]
  },
  {
   "cell_type": "code",
   "execution_count": 9,
   "metadata": {},
   "outputs": [],
   "source": [
    "PHOTO_DIR2 = r'/Users/mjboothaus/iCloud/Data/HealthFit/B2M/M2P/Newport, 28 September 2020/'"
   ]
  },
  {
   "cell_type": "code",
   "execution_count": 10,
   "metadata": {},
   "outputs": [],
   "source": [
    "LEN_FILENAME_1 = 23\n",
    "LEN_FILENAME_2 = 20"
   ]
  },
  {
   "cell_type": "code",
   "execution_count": 11,
   "metadata": {},
   "outputs": [],
   "source": [
    "def extract_gps_data_from_photos(LEN_FILENAME, PHOTO_DIR):\n",
    "    photo_files = [file for file in os.listdir(PHOTO_DIR) if file.endswith('.jpeg')]\n",
    "    photo_files.sort(key=lambda x : int(x[LEN_FILENAME:].replace('.jpeg', '')))\n",
    "    photo_GPS = []\n",
    "    for iFile, file in enumerate(photo_files):\n",
    "        gps_data = gpsphoto.getGPSData(PHOTO_DIR + file)\n",
    "        try:\n",
    "            photo_GPS.append((gps_data['Latitude'], gps_data['Longitude']))\n",
    "        except:\n",
    "            pass\n",
    "    return photo_GPS"
   ]
  },
  {
   "cell_type": "code",
   "execution_count": 12,
   "metadata": {},
   "outputs": [],
   "source": [
    "photo_GPS_1 = extract_gps_data_from_photos(LEN_FILENAME_1, PHOTO_DIR1)"
   ]
  },
  {
   "cell_type": "code",
   "execution_count": 13,
   "metadata": {},
   "outputs": [],
   "source": [
    "photo_GPS_2 = extract_gps_data_from_photos(LEN_FILENAME_2, PHOTO_DIR2)"
   ]
  },
  {
   "cell_type": "code",
   "execution_count": 14,
   "metadata": {},
   "outputs": [],
   "source": [
    "import folium"
   ]
  },
  {
   "cell_type": "code",
   "execution_count": 15,
   "metadata": {},
   "outputs": [],
   "source": [
    "start_coord = [-33.89054004102945, 151.27483293414116]"
   ]
  },
  {
   "cell_type": "code",
   "execution_count": 16,
   "metadata": {},
   "outputs": [],
   "source": [
    "map_handle = folium.Map(start_coord, zoom_start=13, detect_retina=True, control_scale=True)"
   ]
  },
  {
   "cell_type": "code",
   "execution_count": 17,
   "metadata": {},
   "outputs": [],
   "source": [
    "def plot_walk_points(walk_points, map_handle, linecolour, linewidth):\n",
    "    folium.PolyLine(walk_points, color=linecolour, weight=linewidth).add_to(map_handle)"
   ]
  },
  {
   "cell_type": "code",
   "execution_count": 18,
   "metadata": {},
   "outputs": [],
   "source": [
    "plot_walk_points(photo_GPS_1, map_handle, 'blue', 6)"
   ]
  },
  {
   "cell_type": "code",
   "execution_count": 19,
   "metadata": {},
   "outputs": [],
   "source": [
    "plot_walk_points(photo_GPS_2, map_handle, 'blue', 6)"
   ]
  },
  {
   "cell_type": "code",
   "execution_count": 20,
   "metadata": {},
   "outputs": [],
   "source": [
    "map_handle.fit_bounds(map_handle.get_bounds())"
   ]
  },
  {
   "cell_type": "code",
   "execution_count": 21,
   "metadata": {},
   "outputs": [
    {
     "data": {
      "text/html": [
       "<div style=\"width:100%;\"><div style=\"position:relative;width:100%;height:0;padding-bottom:60%;\"><span style=\"color:#565656\">Make this Notebook Trusted to load map: File -> Trust Notebook</span><iframe src=\"about:blank\" style=\"position:absolute;width:100%;height:100%;left:0;top:0;border:none !important;\" data-html=%3C%21DOCTYPE%20html%3E%0A%3Chead%3E%20%20%20%20%0A%20%20%20%20%3Cmeta%20http-equiv%3D%22content-type%22%20content%3D%22text/html%3B%20charset%3DUTF-8%22%20/%3E%0A%20%20%20%20%0A%20%20%20%20%20%20%20%20%3Cscript%3E%0A%20%20%20%20%20%20%20%20%20%20%20%20L_NO_TOUCH%20%3D%20false%3B%0A%20%20%20%20%20%20%20%20%20%20%20%20L_DISABLE_3D%20%3D%20false%3B%0A%20%20%20%20%20%20%20%20%3C/script%3E%0A%20%20%20%20%0A%20%20%20%20%3Cscript%20src%3D%22https%3A//cdn.jsdelivr.net/npm/leaflet%401.6.0/dist/leaflet.js%22%3E%3C/script%3E%0A%20%20%20%20%3Cscript%20src%3D%22https%3A//code.jquery.com/jquery-1.12.4.min.js%22%3E%3C/script%3E%0A%20%20%20%20%3Cscript%20src%3D%22https%3A//maxcdn.bootstrapcdn.com/bootstrap/3.2.0/js/bootstrap.min.js%22%3E%3C/script%3E%0A%20%20%20%20%3Cscript%20src%3D%22https%3A//cdnjs.cloudflare.com/ajax/libs/Leaflet.awesome-markers/2.0.2/leaflet.awesome-markers.js%22%3E%3C/script%3E%0A%20%20%20%20%3Clink%20rel%3D%22stylesheet%22%20href%3D%22https%3A//cdn.jsdelivr.net/npm/leaflet%401.6.0/dist/leaflet.css%22/%3E%0A%20%20%20%20%3Clink%20rel%3D%22stylesheet%22%20href%3D%22https%3A//maxcdn.bootstrapcdn.com/bootstrap/3.2.0/css/bootstrap.min.css%22/%3E%0A%20%20%20%20%3Clink%20rel%3D%22stylesheet%22%20href%3D%22https%3A//maxcdn.bootstrapcdn.com/bootstrap/3.2.0/css/bootstrap-theme.min.css%22/%3E%0A%20%20%20%20%3Clink%20rel%3D%22stylesheet%22%20href%3D%22https%3A//maxcdn.bootstrapcdn.com/font-awesome/4.6.3/css/font-awesome.min.css%22/%3E%0A%20%20%20%20%3Clink%20rel%3D%22stylesheet%22%20href%3D%22https%3A//cdnjs.cloudflare.com/ajax/libs/Leaflet.awesome-markers/2.0.2/leaflet.awesome-markers.css%22/%3E%0A%20%20%20%20%3Clink%20rel%3D%22stylesheet%22%20href%3D%22https%3A//rawcdn.githack.com/python-visualization/folium/master/folium/templates/leaflet.awesome.rotate.css%22/%3E%0A%20%20%20%20%3Cstyle%3Ehtml%2C%20body%20%7Bwidth%3A%20100%25%3Bheight%3A%20100%25%3Bmargin%3A%200%3Bpadding%3A%200%3B%7D%3C/style%3E%0A%20%20%20%20%3Cstyle%3E%23map%20%7Bposition%3Aabsolute%3Btop%3A0%3Bbottom%3A0%3Bright%3A0%3Bleft%3A0%3B%7D%3C/style%3E%0A%20%20%20%20%0A%20%20%20%20%20%20%20%20%20%20%20%20%3Cmeta%20name%3D%22viewport%22%20content%3D%22width%3Ddevice-width%2C%0A%20%20%20%20%20%20%20%20%20%20%20%20%20%20%20%20initial-scale%3D1.0%2C%20maximum-scale%3D1.0%2C%20user-scalable%3Dno%22%20/%3E%0A%20%20%20%20%20%20%20%20%20%20%20%20%3Cstyle%3E%0A%20%20%20%20%20%20%20%20%20%20%20%20%20%20%20%20%23map_77ba27f7f45e4cd495e8a417e65c617d%20%7B%0A%20%20%20%20%20%20%20%20%20%20%20%20%20%20%20%20%20%20%20%20position%3A%20relative%3B%0A%20%20%20%20%20%20%20%20%20%20%20%20%20%20%20%20%20%20%20%20width%3A%20100.0%25%3B%0A%20%20%20%20%20%20%20%20%20%20%20%20%20%20%20%20%20%20%20%20height%3A%20100.0%25%3B%0A%20%20%20%20%20%20%20%20%20%20%20%20%20%20%20%20%20%20%20%20left%3A%200.0%25%3B%0A%20%20%20%20%20%20%20%20%20%20%20%20%20%20%20%20%20%20%20%20top%3A%200.0%25%3B%0A%20%20%20%20%20%20%20%20%20%20%20%20%20%20%20%20%7D%0A%20%20%20%20%20%20%20%20%20%20%20%20%3C/style%3E%0A%20%20%20%20%20%20%20%20%0A%3C/head%3E%0A%3Cbody%3E%20%20%20%20%0A%20%20%20%20%0A%20%20%20%20%20%20%20%20%20%20%20%20%3Cdiv%20class%3D%22folium-map%22%20id%3D%22map_77ba27f7f45e4cd495e8a417e65c617d%22%20%3E%3C/div%3E%0A%20%20%20%20%20%20%20%20%0A%3C/body%3E%0A%3Cscript%3E%20%20%20%20%0A%20%20%20%20%0A%20%20%20%20%20%20%20%20%20%20%20%20var%20map_77ba27f7f45e4cd495e8a417e65c617d%20%3D%20L.map%28%0A%20%20%20%20%20%20%20%20%20%20%20%20%20%20%20%20%22map_77ba27f7f45e4cd495e8a417e65c617d%22%2C%0A%20%20%20%20%20%20%20%20%20%20%20%20%20%20%20%20%7B%0A%20%20%20%20%20%20%20%20%20%20%20%20%20%20%20%20%20%20%20%20center%3A%20%5B-33.89054004102945%2C%20151.27483293414116%5D%2C%0A%20%20%20%20%20%20%20%20%20%20%20%20%20%20%20%20%20%20%20%20crs%3A%20L.CRS.EPSG3857%2C%0A%20%20%20%20%20%20%20%20%20%20%20%20%20%20%20%20%20%20%20%20zoom%3A%2013%2C%0A%20%20%20%20%20%20%20%20%20%20%20%20%20%20%20%20%20%20%20%20zoomControl%3A%20true%2C%0A%20%20%20%20%20%20%20%20%20%20%20%20%20%20%20%20%20%20%20%20preferCanvas%3A%20false%2C%0A%20%20%20%20%20%20%20%20%20%20%20%20%20%20%20%20%20%20%20%20detectRetina%3A%20true%2C%0A%20%20%20%20%20%20%20%20%20%20%20%20%20%20%20%20%7D%0A%20%20%20%20%20%20%20%20%20%20%20%20%29%3B%0A%20%20%20%20%20%20%20%20%20%20%20%20L.control.scale%28%29.addTo%28map_77ba27f7f45e4cd495e8a417e65c617d%29%3B%0A%0A%20%20%20%20%20%20%20%20%20%20%20%20%0A%0A%20%20%20%20%20%20%20%20%0A%20%20%20%20%0A%20%20%20%20%20%20%20%20%20%20%20%20var%20tile_layer_961a2d65dcea478ab3b252b025af58f6%20%3D%20L.tileLayer%28%0A%20%20%20%20%20%20%20%20%20%20%20%20%20%20%20%20%22https%3A//%7Bs%7D.tile.openstreetmap.org/%7Bz%7D/%7Bx%7D/%7By%7D.png%22%2C%0A%20%20%20%20%20%20%20%20%20%20%20%20%20%20%20%20%7B%22attribution%22%3A%20%22Data%20by%20%5Cu0026copy%3B%20%5Cu003ca%20href%3D%5C%22http%3A//openstreetmap.org%5C%22%5Cu003eOpenStreetMap%5Cu003c/a%5Cu003e%2C%20under%20%5Cu003ca%20href%3D%5C%22http%3A//www.openstreetmap.org/copyright%5C%22%5Cu003eODbL%5Cu003c/a%5Cu003e.%22%2C%20%22detectRetina%22%3A%20false%2C%20%22maxNativeZoom%22%3A%2018%2C%20%22maxZoom%22%3A%2018%2C%20%22minZoom%22%3A%200%2C%20%22noWrap%22%3A%20false%2C%20%22opacity%22%3A%201%2C%20%22subdomains%22%3A%20%22abc%22%2C%20%22tms%22%3A%20false%7D%0A%20%20%20%20%20%20%20%20%20%20%20%20%29.addTo%28map_77ba27f7f45e4cd495e8a417e65c617d%29%3B%0A%20%20%20%20%20%20%20%20%0A%20%20%20%20%0A%20%20%20%20%20%20%20%20%20%20%20%20var%20poly_line_1cb8e091d85e48a6bbaad496aaf1ae30%20%3D%20L.polyline%28%0A%20%20%20%20%20%20%20%20%20%20%20%20%20%20%20%20%5B%5B-33.78615277777777%2C%20151.2878888888889%5D%2C%20%5B-33.786141666666666%2C%20151.28799444444445%5D%2C%20%5B-33.786175%2C%20151.28939722222222%5D%2C%20%5B-33.78621388888889%2C%20151.29077222222222%5D%2C%20%5B-33.786205555555554%2C%20151.29080277777777%5D%2C%20%5B-33.78614722222222%2C%20151.29083333333332%5D%2C%20%5B-33.786125%2C%20151.29084722222223%5D%2C%20%5B-33.78602222222222%2C%20151.2909388888889%5D%2C%20%5B-33.78595%2C%20151.29101666666668%5D%2C%20%5B-33.78595277777777%2C%20151.29103055555555%5D%2C%20%5B-33.785775%2C%20151.2910611111111%5D%2C%20%5B-33.78575555555555%2C%20151.29104722222223%5D%2C%20%5B-33.7855%2C%20151.29116944444445%5D%2C%20%5B-33.785494444444446%2C%20151.29118333333332%5D%2C%20%5B-33.785488888888885%2C%20151.29118333333332%5D%2C%20%5B-33.78538888888889%2C%20151.29101666666668%5D%2C%20%5B-33.78429166666667%2C%20151.29034444444443%5D%2C%20%5B-33.78429166666667%2C%20151.29034444444443%5D%2C%20%5B-33.78355833333333%2C%20151.29008611111112%5D%2C%20%5B-33.783366666666666%2C%20151.28991666666667%5D%2C%20%5B-33.783363888888886%2C%20151.28990277777777%5D%2C%20%5B-33.782475%2C%20151.28962777777778%5D%2C%20%5B-33.78123055555555%2C%20151.2942361111111%5D%2C%20%5B-33.781216666666666%2C%20151.2942361111111%5D%2C%20%5B-33.78122777777778%2C%20151.2942361111111%5D%2C%20%5B-33.78143333333333%2C%20151.2955638888889%5D%2C%20%5B-33.78143333333333%2C%20151.2955638888889%5D%2C%20%5B-33.78064722222222%2C%20151.29490555555554%5D%2C%20%5B-33.780588888888886%2C%20151.29489166666667%5D%2C%20%5B-33.77910555555555%2C%20151.29386944444445%5D%2C%20%5B-33.77876944444444%2C%20151.2936861111111%5D%2C%20%5B-33.77698611111111%2C%20151.293625%5D%2C%20%5B-33.77692777777778%2C%20151.293625%5D%2C%20%5B-33.77625555555556%2C%20151.29356388888888%5D%2C%20%5B-33.775475%2C%20151.29345833333332%5D%2C%20%5B-33.77359444444444%2C%20151.2925111111111%5D%2C%20%5B-33.77305277777778%2C%20151.29276944444445%5D%2C%20%5B-33.767025%2C%20151.29946944444444%5D%2C%20%5B-33.76701111111111%2C%20151.2994527777778%5D%2C%20%5B-33.767002777777776%2C%20151.2994527777778%5D%2C%20%5B-33.76701388888889%2C%20151.2994527777778%5D%2C%20%5B-33.76634166666667%2C%20151.29986666666667%5D%2C%20%5B-33.766352777777776%2C%20151.300125%5D%2C%20%5B-33.76633888888889%2C%20151.300125%5D%2C%20%5B-33.76634166666667%2C%20151.30011111111114%5D%2C%20%5B-33.76636944444444%2C%20151.30024722222223%5D%2C%20%5B-33.76638888888889%2C%20151.30065833333333%5D%2C%20%5B-33.76638055555556%2C%20151.300675%5D%2C%20%5B-33.76656388888889%2C%20151.3008888888889%5D%2C%20%5B-33.76657222222222%2C%20151.30085833333334%5D%2C%20%5B-33.76640277777778%2C%20151.30125555555557%5D%2C%20%5B-33.766394444444444%2C%20151.30125555555557%5D%2C%20%5B-33.766327777777775%2C%20151.30134444444445%5D%2C%20%5B-33.76459444444444%2C%20151.30163611111112%5D%2C%20%5B-33.764469444444444%2C%20151.3017888888889%5D%2C%20%5B-33.76445%2C%20151.30175833333334%5D%2C%20%5B-33.76443888888889%2C%20151.30175833333334%5D%2C%20%5B-33.76443888888889%2C%20151.30175833333334%5D%2C%20%5B-33.763038888888886%2C%20151.30181944444445%5D%2C%20%5B-33.76184166666667%2C%20151.3013916666667%5D%2C%20%5B-33.76029722222222%2C%20151.301375%5D%2C%20%5B-33.760266666666666%2C%20151.30136111111113%5D%2C%20%5B-33.76025833333333%2C%20151.30134444444445%5D%2C%20%5B-33.76025%2C%20151.30134444444445%5D%2C%20%5B-33.76003611111111%2C%20151.3011027777778%5D%2C%20%5B-33.75955555555556%2C%20151.30073611111112%5D%2C%20%5B-33.75955277777778%2C%20151.30073611111112%5D%2C%20%5B-33.759547222222224%2C%20151.30071944444447%5D%2C%20%5B-33.759480555555555%2C%20151.30059722222222%5D%2C%20%5B-33.758744444444446%2C%20151.30017222222224%5D%2C%20%5B-33.758719444444445%2C%20151.30015555555556%5D%2C%20%5B-33.75771666666667%2C%20151.29975833333333%5D%2C%20%5B-33.757447222222225%2C%20151.2996222222222%5D%2C%20%5B-33.756819444444446%2C%20151.29931666666667%5D%2C%20%5B-33.75680833333333%2C%20151.29931666666667%5D%2C%20%5B-33.75666944444445%2C%20151.29925555555556%5D%2C%20%5B-33.75603888888889%2C%20151.29888888888888%5D%2C%20%5B-33.75570277777778%2C%20151.298875%5D%2C%20%5B-33.755269444444444%2C%20151.29876666666667%5D%2C%20%5B-33.755097222222226%2C%20151.2986611111111%5D%2C%20%5B-33.755069444444445%2C%20151.298675%5D%2C%20%5B-33.75499444444444%2C%20151.29841666666667%5D%2C%20%5B-33.753436111111114%2C%20151.29669166666667%5D%2C%20%5B-33.75293333333333%2C%20151.296875%5D%2C%20%5B-33.75128888888889%2C%20151.29715%5D%2C%20%5B-33.75123333333333%2C%20151.29718055555554%5D%2C%20%5B-33.749472222222224%2C%20151.2996222222222%5D%2C%20%5B-33.74706944444444%2C%20151.3031%5D%2C%20%5B-33.747077777777776%2C%20151.30311666666668%5D%2C%20%5B-33.747075%2C%20151.30311666666668%5D%2C%20%5B-33.74628055555556%2C%20151.30433611111113%5D%2C%20%5B-33.743636111111115%2C%20151.3094777777778%5D%2C%20%5B-33.743630555555555%2C%20151.3094777777778%5D%2C%20%5B-33.74362222222222%2C%20151.3094777777778%5D%2C%20%5B-33.74359166666667%2C%20151.309525%5D%2C%20%5B-33.74358055555555%2C%20151.30955555555556%5D%2C%20%5B-33.74357222222222%2C%20151.30955555555556%5D%2C%20%5B-33.74356388888889%2C%20151.30955555555556%5D%2C%20%5B-33.74356111111111%2C%20151.30955555555556%5D%2C%20%5B-33.74355833333333%2C%20151.30955555555556%5D%2C%20%5B-33.74341944444445%2C%20151.30983055555558%5D%2C%20%5B-33.743319444444445%2C%20151.30999722222222%5D%2C%20%5B-33.74328888888889%2C%20151.31002777777778%5D%2C%20%5B-33.74322222222222%2C%20151.31013611111112%5D%2C%20%5B-33.743027777777776%2C%20151.31068333333334%5D%2C%20%5B-33.742825%2C%20151.3109888888889%5D%2C%20%5B-33.74265555555556%2C%20151.31207222222224%5D%2C%20%5B-33.74265555555556%2C%20151.31207222222224%5D%2C%20%5B-33.742425000000004%2C%20151.3125916666667%5D%2C%20%5B-33.741775000000004%2C%20151.31488055555556%5D%2C%20%5B-33.741775000000004%2C%20151.31489444444446%5D%2C%20%5B-33.74178055555556%2C%20151.31489444444446%5D%2C%20%5B-33.741622222222226%2C%20151.31495555555557%5D%2C%20%5B-33.741572222222224%2C%20151.3148638888889%5D%2C%20%5B-33.74109722222222%2C%20151.31457500000002%5D%2C%20%5B-33.74104722222222%2C%20151.31453055555556%5D%2C%20%5B-33.740230555555556%2C%20151.3140111111111%5D%2C%20%5B-33.738727777777775%2C%20151.31234722222223%5D%2C%20%5B-33.73873611111111%2C%20151.31234722222223%5D%2C%20%5B-33.73874166666667%2C%20151.31233333333336%5D%2C%20%5B-33.73898333333334%2C%20151.31199722222223%5D%2C%20%5B-33.739136111111115%2C%20151.3107916666667%5D%2C%20%5B-33.73923055555556%2C%20151.31046944444446%5D%2C%20%5B-33.73923055555556%2C%20151.31046944444446%5D%2C%20%5B-33.73916111111111%2C%20151.30990555555556%5D%2C%20%5B-33.73922777777778%2C%20151.3098138888889%5D%2C%20%5B-33.73909722222222%2C%20151.30810555555556%5D%2C%20%5B-33.73860277777778%2C%20151.30703611111113%5D%2C%20%5B-33.738575000000004%2C%20151.30700555555558%5D%2C%20%5B-33.73841111111111%2C%20151.30665555555558%5D%2C%20%5B-33.738422222222226%2C%20151.30653333333333%5D%2C%20%5B-33.7385%2C%20151.30578611111113%5D%2C%20%5B-33.73867777777778%2C%20151.30486944444445%5D%5D%2C%0A%20%20%20%20%20%20%20%20%20%20%20%20%20%20%20%20%7B%22bubblingMouseEvents%22%3A%20true%2C%20%22color%22%3A%20%22blue%22%2C%20%22dashArray%22%3A%20null%2C%20%22dashOffset%22%3A%20null%2C%20%22fill%22%3A%20false%2C%20%22fillColor%22%3A%20%22blue%22%2C%20%22fillOpacity%22%3A%200.2%2C%20%22fillRule%22%3A%20%22evenodd%22%2C%20%22lineCap%22%3A%20%22round%22%2C%20%22lineJoin%22%3A%20%22round%22%2C%20%22noClip%22%3A%20false%2C%20%22opacity%22%3A%201.0%2C%20%22smoothFactor%22%3A%201.0%2C%20%22stroke%22%3A%20true%2C%20%22weight%22%3A%206%7D%0A%20%20%20%20%20%20%20%20%20%20%20%20%29.addTo%28map_77ba27f7f45e4cd495e8a417e65c617d%29%3B%0A%20%20%20%20%20%20%20%20%0A%20%20%20%20%0A%20%20%20%20%20%20%20%20%20%20%20%20var%20poly_line_3d6cfc7764674be7b98274be8739948a%20%3D%20L.polyline%28%0A%20%20%20%20%20%20%20%20%20%20%20%20%20%20%20%20%5B%5B-33.73857777777778%2C%20151.30389444444447%5D%2C%20%5B-33.73835833333334%2C%20151.30645833333335%5D%2C%20%5B-33.73827777777778%2C%20151.30673333333334%5D%2C%20%5B-33.73549166666667%2C%20151.30583055555556%5D%2C%20%5B-33.73463888888889%2C%20151.305375%5D%2C%20%5B-33.73463888888889%2C%20151.305375%5D%2C%20%5B-33.734633333333335%2C%20151.305375%5D%2C%20%5B-33.73366111111111%2C%20151.3042138888889%5D%2C%20%5B-33.72504444444445%2C%20151.29974444444443%5D%2C%20%5B-33.72505555555556%2C%20151.29974444444443%5D%2C%20%5B-33.721091666666666%2C%20151.29946944444444%5D%2C%20%5B-33.72109722222223%2C%20151.29948333333334%5D%2C%20%5B-33.71458055555556%2C%20151.30056666666667%5D%2C%20%5B-33.70455277777778%2C%20151.30662500000003%5D%2C%20%5B-33.70312222222223%2C%20151.30841111111113%5D%2C%20%5B-33.702933333333334%2C%20151.30925000000002%5D%2C%20%5B-33.702891666666666%2C%20151.30921944444447%5D%2C%20%5B-33.702891666666666%2C%20151.30921944444447%5D%2C%20%5B-33.702891666666666%2C%20151.30921944444447%5D%2C%20%5B-33.70225555555556%2C%20151.30923333333334%5D%2C%20%5B-33.702275%2C%20151.30920277777778%5D%2C%20%5B-33.701711111111116%2C%20151.3092638888889%5D%2C%20%5B-33.701683333333335%2C%20151.30920277777778%5D%2C%20%5B-33.70166666666667%2C%20151.30920277777778%5D%2C%20%5B-33.701344444444445%2C%20151.3091138888889%5D%2C%20%5B-33.70133888888889%2C%20151.3091138888889%5D%2C%20%5B-33.697963888888886%2C%20151.31040833333336%5D%2C%20%5B-33.697961111111105%2C%20151.31040833333336%5D%2C%20%5B-33.697630555555556%2C%20151.31060833333333%5D%2C%20%5B-33.697599999999994%2C%20151.31066944444444%5D%2C%20%5B-33.69758611111111%2C%20151.31068333333334%5D%2C%20%5B-33.696724999999994%2C%20151.31040833333336%5D%2C%20%5B-33.69609444444444%2C%20151.3106388888889%5D%2C%20%5B-33.695899999999995%2C%20151.31117222222224%5D%2C%20%5B-33.695927777777776%2C%20151.31117222222224%5D%2C%20%5B-33.69578055555555%2C%20151.31138611111112%5D%2C%20%5B-33.69575833333333%2C%20151.31140000000002%5D%2C%20%5B-33.69567222222222%2C%20151.31144722222223%5D%2C%20%5B-33.695502777777776%2C%20151.31179722222222%5D%2C%20%5B-33.695166666666665%2C%20151.31198055555558%5D%2C%20%5B-33.69434722222222%2C%20151.31129444444446%5D%2C%20%5B-33.69416944444444%2C%20151.3107138888889%5D%2C%20%5B-33.69288333333333%2C%20151.310075%5D%2C%20%5B-33.692566666666664%2C%20151.3091888888889%5D%2C%20%5B-33.69238333333333%2C%20151.30894444444445%5D%2C%20%5B-33.690124999999995%2C%20151.30816666666666%5D%2C%20%5B-33.69010833333333%2C%20151.30816666666666%5D%2C%20%5B-33.689766666666664%2C%20151.30790833333336%5D%2C%20%5B-33.68946388888889%2C%20151.30763333333334%5D%2C%20%5B-33.689227777777774%2C%20151.30748055555557%5D%2C%20%5B-33.6875%2C%20151.30880833333333%5D%2C%20%5B-33.68735833333333%2C%20151.3088388888889%5D%2C%20%5B-33.68669444444444%2C%20151.30929444444445%5D%2C%20%5B-33.684372222222215%2C%20151.3093861111111%5D%2C%20%5B-33.683375%2C%20151.30978333333334%5D%2C%20%5B-33.68327222222222%2C%20151.30983055555558%5D%2C%20%5B-33.68060277777778%2C%20151.31166111111114%5D%2C%20%5B-33.67829166666667%2C%20151.3147888888889%5D%2C%20%5B-33.67708888888889%2C%20151.31558333333334%5D%2C%20%5B-33.67496944444444%2C%20151.3168638888889%5D%2C%20%5B-33.674838888888885%2C%20151.317275%5D%2C%20%5B-33.67485833333333%2C%20151.31730555555555%5D%2C%20%5B-33.67428611111111%2C%20151.31793333333334%5D%2C%20%5B-33.67520277777778%2C%20151.31858888888888%5D%2C%20%5B-33.67511111111111%2C%20151.31901666666667%5D%2C%20%5B-33.67471666666666%2C%20151.31958055555555%5D%2C%20%5B-33.67444166666667%2C%20151.31944166666668%5D%2C%20%5B-33.674252777777774%2C%20151.319275%5D%2C%20%5B-33.67035277777777%2C%20151.3157666666667%5D%2C%20%5B-33.67023888888889%2C%20151.31578055555556%5D%2C%20%5B-33.666266666666665%2C%20151.31791666666666%5D%2C%20%5B-33.666266666666665%2C%20151.31790277777776%5D%2C%20%5B-33.666244444444445%2C%20151.31791666666666%5D%2C%20%5B-33.66650833333333%2C%20151.31874166666665%5D%2C%20%5B-33.666466666666665%2C%20151.31883333333332%5D%2C%20%5B-33.666602777777776%2C%20151.319275%5D%2C%20%5B-33.666605555555556%2C%20151.319275%5D%2C%20%5B-33.66661111111111%2C%20151.319275%5D%2C%20%5B-33.66658888888889%2C%20151.31964166666666%5D%2C%20%5B-33.66624722222222%2C%20151.3199611111111%5D%2C%20%5B-33.66538611111111%2C%20151.32081666666667%5D%2C%20%5B-33.66478333333333%2C%20151.3231972222222%5D%2C%20%5B-33.66478055555555%2C%20151.3231972222222%5D%2C%20%5B-33.66477222222222%2C%20151.3231972222222%5D%2C%20%5B-33.66461111111111%2C%20151.32360833333334%5D%2C%20%5B-33.6646%2C%20151.32359444444444%5D%2C%20%5B-33.66443611111111%2C%20151.32377499999998%5D%2C%20%5B-33.66438611111111%2C%20151.3239888888889%5D%2C%20%5B-33.664249999999996%2C%20151.32417222222222%5D%2C%20%5B-33.66423888888889%2C%20151.32417222222222%5D%2C%20%5B-33.664005555555555%2C%20151.32435555555554%5D%2C%20%5B-33.663977777777774%2C%20151.32440277777778%5D%2C%20%5B-33.6638%2C%20151.32455555555555%5D%2C%20%5B-33.66376944444444%2C%20151.3246472222222%5D%2C%20%5B-33.66356944444444%2C%20151.32473888888887%5D%2C%20%5B-33.663577777777775%2C%20151.32475277777777%5D%2C%20%5B-33.66302777777778%2C%20151.32496666666665%5D%2C%20%5B-33.66285277777778%2C%20151.3249972222222%5D%2C%20%5B-33.66285833333333%2C%20151.32498055555556%5D%2C%20%5B-33.662863888888886%2C%20151.32496666666665%5D%2C%20%5B-33.66178055555555%2C%20151.32502777777776%5D%2C%20%5B-33.65960277777778%2C%20151.3250111111111%5D%2C%20%5B-33.65961111111111%2C%20151.3250111111111%5D%2C%20%5B-33.65960555555555%2C%20151.3250111111111%5D%2C%20%5B-33.65861388888889%2C%20151.32425%5D%2C%20%5B-33.65861111111111%2C%20151.32425%5D%2C%20%5B-33.658627777777774%2C%20151.32425%5D%2C%20%5B-33.65861111111111%2C%20151.32425%5D%2C%20%5B-33.658325%2C%20151.32394444444444%5D%2C%20%5B-33.65743611111111%2C%20151.3234861111111%5D%2C%20%5B-33.65738611111111%2C%20151.3234861111111%5D%2C%20%5B-33.654849999999996%2C%20151.32330277777777%5D%2C%20%5B-33.65485833333333%2C%20151.3232888888889%5D%5D%2C%0A%20%20%20%20%20%20%20%20%20%20%20%20%20%20%20%20%7B%22bubblingMouseEvents%22%3A%20true%2C%20%22color%22%3A%20%22blue%22%2C%20%22dashArray%22%3A%20null%2C%20%22dashOffset%22%3A%20null%2C%20%22fill%22%3A%20false%2C%20%22fillColor%22%3A%20%22blue%22%2C%20%22fillOpacity%22%3A%200.2%2C%20%22fillRule%22%3A%20%22evenodd%22%2C%20%22lineCap%22%3A%20%22round%22%2C%20%22lineJoin%22%3A%20%22round%22%2C%20%22noClip%22%3A%20false%2C%20%22opacity%22%3A%201.0%2C%20%22smoothFactor%22%3A%201.0%2C%20%22stroke%22%3A%20true%2C%20%22weight%22%3A%206%7D%0A%20%20%20%20%20%20%20%20%20%20%20%20%29.addTo%28map_77ba27f7f45e4cd495e8a417e65c617d%29%3B%0A%20%20%20%20%20%20%20%20%0A%20%20%20%20%0A%20%20%20%20%20%20%20%20%20%20%20%20map_77ba27f7f45e4cd495e8a417e65c617d.fitBounds%28%0A%20%20%20%20%20%20%20%20%20%20%20%20%20%20%20%20%5B%5B-33.78621388888889%2C%20151.2878888888889%5D%2C%20%5B-33.654849999999996%2C%20151.32502777777776%5D%5D%2C%0A%20%20%20%20%20%20%20%20%20%20%20%20%20%20%20%20%7B%7D%0A%20%20%20%20%20%20%20%20%20%20%20%20%29%3B%0A%20%20%20%20%20%20%20%20%0A%3C/script%3E onload=\"this.contentDocument.open();this.contentDocument.write(    decodeURIComponent(this.getAttribute('data-html')));this.contentDocument.close();\" allowfullscreen webkitallowfullscreen mozallowfullscreen></iframe></div></div>"
      ],
      "text/plain": [
       "<folium.folium.Map at 0x115fdb550>"
      ]
     },
     "execution_count": 21,
     "metadata": {},
     "output_type": "execute_result"
    }
   ],
   "source": [
    "map_handle"
   ]
  },
  {
   "cell_type": "code",
   "execution_count": 22,
   "metadata": {},
   "outputs": [],
   "source": [
    "# TODO: Need to save down this data into some sort of \"standardised\" format for this particular App \n",
    "#       and also complete doing ALL the pre-processing of data (and/or look at caching function)"
   ]
  },
  {
   "cell_type": "code",
   "execution_count": 23,
   "metadata": {},
   "outputs": [],
   "source": [
    "# TODO: Also look to extract the date/time (original) information [meta-data] to construct walk stats"
   ]
  }
 ],
 "metadata": {
  "kernelspec": {
   "display_name": ".venv",
   "language": "python",
   "name": ".venv"
  },
  "language_info": {
   "codemirror_mode": {
    "name": "ipython",
    "version": 3
   },
   "file_extension": ".py",
   "mimetype": "text/x-python",
   "name": "python",
   "nbconvert_exporter": "python",
   "pygments_lexer": "ipython3",
   "version": "3.8.7"
  }
 },
 "nbformat": 4,
 "nbformat_minor": 4
}
