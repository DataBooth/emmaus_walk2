{
 "cells": [
  {
   "cell_type": "code",
   "execution_count": null,
   "metadata": {},
   "outputs": [],
   "source": [
    "from nbdev import *"
   ]
  },
  {
   "cell_type": "code",
   "execution_count": null,
   "metadata": {},
   "outputs": [
    {
     "name": "stdout",
     "output_type": "stream",
     "text": [
      "Cells will be exported to emmaus_walking.datapipe,\n",
      "unless a different module is specified after an export flag: `%nbdev_export special.module`\n"
     ]
    }
   ],
   "source": [
    "%nbdev_default_export datapipe"
   ]
  },
  {
   "cell_type": "markdown",
   "metadata": {},
   "source": [
    "# Datapipe - Emmaus Walking Streamlit App\n",
    "\n",
    "> This is the module for creating the data pipeline.\n",
    "> It should also be used to perform the data pre-processing and caching."
   ]
  },
  {
   "cell_type": "markdown",
   "metadata": {},
   "source": [
    "So what needs to be done:\n",
    "\n",
    "### Pre-process (prep) the data [do this ONCE and only ONCE - they put in some re-useable form e.g. Quilt on S3.\n",
    "\n",
    "0. Think about capturing walk metadata / do on a per-overall-walk basis \n",
    "1. Need to \"extract\" the data from the .fit files\n",
    "2. Clean/fix the data (e.g. allow for breaks in walk, change in order, not turning off walk at end)\n",
    "3. Concatenate into a single data-structure per overall walk \n",
    "4. Store in \"database\" e.g. sqlite, postgres?, files, or is Quilt sufficient?\n"
   ]
  },
  {
   "cell_type": "code",
   "execution_count": null,
   "metadata": {},
   "outputs": [],
   "source": [
    "# %nbdev_export_internal\n",
    "import os\n",
    "import pandas as pd\n",
    "import activityio as aio\n",
    "from dateutil.parser import parse\n",
    "import datetime as dt"
   ]
  },
  {
   "cell_type": "code",
   "execution_count": null,
   "metadata": {},
   "outputs": [],
   "source": [
    "# %nbdev_export\n",
    "def calc_walk_stats(walk_data):\n",
    "    total_time = dt.timedelta(0)\n",
    "    total_distance = 0\n",
    "\n",
    "    for iHike, hike in enumerate(walk_data):\n",
    "        total_time += hike.index.max()\n",
    "        # print(iHike+1, walk_date[iHike], hike.index.max(), hike['dist'].max() / 1e3)\n",
    "        total_distance += hike['dist'].max()\n",
    "    total_distance /= 1e3\n",
    "\n",
    "    start_coord = walk_data[0][['lat', 'lon']].iloc[0].tolist()\n",
    "    end_coord = walk_data[-1][['lat', 'lon']].iloc[-1].tolist()\n",
    "    return total_time, total_distance, start_coord, end_coord\n",
    "\n",
    "\n",
    "# TODO: use st.cache() and also look to pre-load and cache/feather data (or similar) - NB: use of @st.cache() below didn't work\n",
    "def load_and_cache_raw_walk_data(walk_name, sample_freq):\n",
    "    FIT_FILE_PATH = '/Users/mjboothaus/iCloud/Data/HealthFit/'\n",
    "    data_dir = FIT_FILE_PATH + walk_name[0:3] + '/'\n",
    "    data_files = [file for file in os.listdir(data_dir) if file.endswith('.fit')]\n",
    "    walk_files = sorted(data_files)\n",
    "\n",
    "    walk_data = []\n",
    "    walk_date = []\n",
    "\n",
    "    for iFile, file in enumerate(walk_files):\n",
    "        walk_data.append(pd.DataFrame(aio.read(data_dir + file)))\n",
    "        walk_date.append(parse(file[0:17]))\n",
    "               \n",
    "    total_time, total_distance, start_coord, end_coord = calc_walk_stats(walk_data)\n",
    "    print(start_coord)\n",
    "    walk_merged = pd.concat(walk_data)\n",
    "    points = walk_merged[['lat', 'lon']].values.tolist()\n",
    "    points = [tuple(point) for ipoint, point in enumerate(points) if ipoint % sample_freq == 0]\n",
    "    return walk_data, walk_date, walk_files, points"
   ]
  },
  {
   "cell_type": "code",
   "execution_count": null,
   "metadata": {},
   "outputs": [
    {
     "name": "stdout",
     "output_type": "stream",
     "text": [
      "[-33.89054004102945, 151.27483293414116]\n"
     ]
    }
   ],
   "source": [
    "walk_data, walk_date, walk_files, points = load_and_cache_raw_walk_data('B2M', 50)"
   ]
  },
  {
   "cell_type": "code",
   "execution_count": null,
   "metadata": {},
   "outputs": [
    {
     "data": {
      "text/plain": [
       "1543"
      ]
     },
     "execution_count": null,
     "metadata": {},
     "output_type": "execute_result"
    }
   ],
   "source": [
    "len(points)"
   ]
  },
  {
   "cell_type": "code",
   "execution_count": null,
   "metadata": {},
   "outputs": [],
   "source": [
    "points;"
   ]
  },
  {
   "cell_type": "markdown",
   "metadata": {},
   "source": [
    "### Extract GPS data from the photos for the walks where the GPS data was unavailable from sync issues with AppleWatch (7.0) and iPhone (14.0) update issues"
   ]
  },
  {
   "cell_type": "code",
   "execution_count": null,
   "metadata": {},
   "outputs": [],
   "source": [
    "#!pip install GPSPhoto\n",
    "#!pip install exifread\n",
    "#!pip install piexif"
   ]
  },
  {
   "cell_type": "code",
   "execution_count": null,
   "metadata": {},
   "outputs": [],
   "source": [
    "from GPSPhoto import gpsphoto"
   ]
  },
  {
   "cell_type": "code",
   "execution_count": null,
   "metadata": {},
   "outputs": [],
   "source": [
    "PHOTO_DIR1 = r'/Users/mjboothaus/iCloud/Data/HealthFit/B2M/M2P/Queenscliff & North Curl Curl, 21 September 2020/'"
   ]
  },
  {
   "cell_type": "code",
   "execution_count": null,
   "metadata": {},
   "outputs": [],
   "source": [
    "PHOTO_DIR2 = r'/Users/mjboothaus/iCloud/Data/HealthFit/B2M/M2P/Newport, 28 September 2020/'"
   ]
  },
  {
   "cell_type": "code",
   "execution_count": null,
   "metadata": {},
   "outputs": [],
   "source": [
    "LEN_FILENAME_1 = 23\n",
    "LEN_FILENAME_2 = 20"
   ]
  },
  {
   "cell_type": "code",
   "execution_count": null,
   "metadata": {},
   "outputs": [],
   "source": [
    "def extract_gps_data_from_photos(LEN_FILENAME, PHOTO_DIR):\n",
    "    photo_files = [file for file in os.listdir(PHOTO_DIR) if file.endswith('.jpeg')]\n",
    "    photo_files.sort(key=lambda x : int(x[LEN_FILENAME:].replace('.jpeg', '')))\n",
    "    photo_GPS = []\n",
    "    for iFile, file in enumerate(photo_files):\n",
    "        gps_data = gpsphoto.getGPSData(PHOTO_DIR + file)\n",
    "        try:\n",
    "            photo_GPS.append((gps_data['Latitude'], gps_data['Longitude']))\n",
    "        except:\n",
    "            pass\n",
    "    return photo_GPS"
   ]
  },
  {
   "cell_type": "code",
   "execution_count": null,
   "metadata": {},
   "outputs": [],
   "source": [
    "photo_GPS_1 = extract_gps_data_from_photos(LEN_FILENAME_1, PHOTO_DIR1)"
   ]
  },
  {
   "cell_type": "code",
   "execution_count": null,
   "metadata": {},
   "outputs": [],
   "source": [
    "photo_GPS_2 = extract_gps_data_from_photos(LEN_FILENAME_2, PHOTO_DIR2)"
   ]
  },
  {
   "cell_type": "code",
   "execution_count": null,
   "metadata": {},
   "outputs": [],
   "source": [
    "import folium"
   ]
  },
  {
   "cell_type": "code",
   "execution_count": null,
   "metadata": {},
   "outputs": [],
   "source": [
    "start_coord = [-33.89054004102945, 151.27483293414116]"
   ]
  },
  {
   "cell_type": "code",
   "execution_count": null,
   "metadata": {},
   "outputs": [],
   "source": [
    "map_handle = folium.Map(start_coord, zoom_start=13, detect_retina=True, control_scale=True)"
   ]
  },
  {
   "cell_type": "code",
   "execution_count": null,
   "metadata": {},
   "outputs": [],
   "source": [
    "def plot_walk_points(walk_points, map_handle, linecolour, linewidth):\n",
    "    folium.PolyLine(walk_points, color=linecolour, weight=linewidth).add_to(map_handle)"
   ]
  },
  {
   "cell_type": "code",
   "execution_count": null,
   "metadata": {},
   "outputs": [],
   "source": [
    "plot_walk_points(photo_GPS_1, map_handle, 'blue', 6)"
   ]
  },
  {
   "cell_type": "code",
   "execution_count": null,
   "metadata": {},
   "outputs": [],
   "source": [
    "plot_walk_points(photo_GPS_2, map_handle, 'blue', 6)"
   ]
  },
  {
   "cell_type": "code",
   "execution_count": null,
   "metadata": {},
   "outputs": [],
   "source": [
    "map_handle.fit_bounds(map_handle.get_bounds())"
   ]
  },
  {
   "cell_type": "code",
   "execution_count": null,
   "metadata": {},
   "outputs": [
    {
     "data": {
      "text/html": [
       "<div style=\"width:100%;\"><div style=\"position:relative;width:100%;height:0;padding-bottom:60%;\"><span style=\"color:#565656\">Make this Notebook Trusted to load map: File -> Trust Notebook</span><iframe src=\"about:blank\" style=\"position:absolute;width:100%;height:100%;left:0;top:0;border:none !important;\" data-html=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 onload=\"this.contentDocument.open();this.contentDocument.write(atob(this.getAttribute('data-html')));this.contentDocument.close();\" allowfullscreen webkitallowfullscreen mozallowfullscreen></iframe></div></div>"
      ],
      "text/plain": [
       "<folium.folium.Map at 0x115aec810>"
      ]
     },
     "execution_count": null,
     "metadata": {},
     "output_type": "execute_result"
    }
   ],
   "source": [
    "map_handle"
   ]
  },
  {
   "cell_type": "code",
   "execution_count": null,
   "metadata": {},
   "outputs": [],
   "source": [
    "# TODO: Need to save down this data into some sort of \"standardised\" format for this particular App \n",
    "#       and also complete doing ALL the pre-processing of data (and/or look at caching function)"
   ]
  },
  {
   "cell_type": "code",
   "execution_count": null,
   "metadata": {},
   "outputs": [],
   "source": [
    "# TODO: Also look to extract the date/time (original) information [meta-data] to construct walk stats"
   ]
  },
  {
   "cell_type": "code",
   "execution_count": null,
   "metadata": {},
   "outputs": [],
   "source": []
  }
 ],
 "metadata": {
  "kernelspec": {
   "display_name": ".venv_emmaus_walking",
   "language": "python",
   "name": ".venv_emmaus_walking"
  }
 },
 "nbformat": 4,
 "nbformat_minor": 4
}
