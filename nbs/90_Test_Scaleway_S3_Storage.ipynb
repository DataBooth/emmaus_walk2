{
  "nbformat": 4,
  "nbformat_minor": 0,
  "metadata": {
    "colab": {
      "name": "Test_Scaleway_S3_Storage.ipynb",
      "provenance": [],
      "authorship_tag": "ABX9TyOyfK0jdQa8zfVULi3h5Bnc",
      "include_colab_link": true
    },
    "kernelspec": {
      "name": "python3",
      "display_name": "Python 3.8.0 64-bit ('emmaus_walking_py38': conda)"
    },
    "language_info": {
      "name": "python",
      "version": "3.8.0"
    },
    "interpreter": {
      "hash": "27db93b73097636155233e8686532144db09fd31d07141858c6940fdd2ed507f"
    }
  },
  "cells": [
    {
      "cell_type": "markdown",
      "metadata": {
        "id": "LxLxoGGRto8v"
      },
      "source": [
        "## Scaleway Object Storage - Testing\n",
        "\n",
        "https://www.simplecto.com/using-django-and-boto3-with-scaleway-object-storage/\n",
        "\n",
        "* `AWS_ACCESS_KEY_ID` and `AWS_SECRET_ACCESS_KEY` can be obtained from the [credentials control panel](https://console.scaleway.com/project/credentials) under API Keys.\n",
        "* `AWS_STORAGE_BUCKET_NAME` is the name of the bucket you create on [objects administration page](https://console.scaleway.com/object-storage/buckets)\n",
        "* `AWS_DEFAULT_ACL` is set to public-read so that the objects can be pulled from a URL without any access keys or time-limited signatures.\n",
        "* `AWS_S3_REGION_NAME` and `AWS_S3_ENDPOINT_URL` should be configured so that `boto3` knows to point to the Scaleway resources.\n",
        "\n",
        "All of these are references in the Scaleways docs on Object Storage.\n",
        "\n",
        "### Resources:\n",
        "* https://www.scaleway.com/en/docs/object-storage-feature/\n",
        "* https://www.scaleway.com/en/docs/how-to-migrate-object-storage-buckets-with-rclone/\n",
        "* https://boto3.amazonaws.com/v1/documentation/api/latest/reference/services/s3.html"
      ]
    },
    {
      "cell_type": "code",
      "execution_count": 4,
      "metadata": {},
      "outputs": [],
      "source": [
        "import tomli\n",
        "from pathlib import Path"
      ]
    },
    {
      "cell_type": "code",
      "execution_count": 5,
      "metadata": {},
      "outputs": [],
      "source": [
        "APP_CONFIG_FILE = 'app_config.toml'"
      ]
    },
    {
      "cell_type": "code",
      "execution_count": 7,
      "metadata": {},
      "outputs": [],
      "source": [
        "with open(Path('..')/APP_CONFIG_FILE, encoding=\"utf-8\") as f:\n",
        "    app_config = tomli.load(f)"
      ]
    },
    {
      "cell_type": "code",
      "metadata": {
        "id": "hhKBLtKGtkKo"
      },
      "source": [
        "AWS_ACCESS_KEY_ID = app_config['AWS']['AWS_ACCESS_KEY_ID']\n",
        "AWS_SECRET_ACCESS_KEY = app_config['AWS']['AWS_SECRET_ACCESS_KEY']\n",
        "AWS_STORAGE_BUCKET_NAME = app_config['AWS']['AWS_STORAGE_BUCKET_NAME']\n",
        "AWS_DEFAULT_ACL = app_config['AWS']['AWS_DEFAULT_ACL']\n",
        "AWS_S3_REGION_NAME = app_config['AWS']['AWS_S3_REGION_NAME']\n",
        "AWS_S3_ENDPOINT_URL =  app_config['AWS']['AWS_S3_ENDPOINT_URL']"
      ],
      "execution_count": 16,
      "outputs": []
    },
    {
      "cell_type": "code",
      "metadata": {
        "id": "wAHzHKMR4e02"
      },
      "source": [
        "import boto3\n",
        "from pathlib import Path"
      ],
      "execution_count": 20,
      "outputs": []
    },
    {
      "cell_type": "code",
      "metadata": {
        "id": "aR7TbuyV8bkr"
      },
      "source": [
        "#from os import path, makedirs\n",
        "#from botocore.exceptions import ClientError\n",
        "#from boto3.exceptions import S3TransferFailedError"
      ],
      "execution_count": 38,
      "outputs": []
    },
    {
      "cell_type": "code",
      "metadata": {
        "id": "musDwftk2NUx"
      },
      "source": [
        "s3 = boto3.client('s3', \n",
        "        region_name=AWS_S3_REGION_NAME, \n",
        "        endpoint_url=AWS_S3_ENDPOINT_URL, \n",
        "        aws_access_key_id=AWS_ACCESS_KEY_ID,\n",
        "        aws_secret_access_key=AWS_SECRET_ACCESS_KEY)"
      ],
      "execution_count": 21,
      "outputs": []
    },
    {
      "cell_type": "code",
      "metadata": {
        "id": "T5qqtl989rnL"
      },
      "source": [
        "def download_s3_folder(s3, bucket_name, s3_folder, local_dir=None):\n",
        "    filecount = 0\n",
        "    files = []\n",
        "    if not local_dir.exists():\n",
        "        Path.makedirs(local_dir)\n",
        "    bucket_list=s3.list_objects(Bucket=bucket_name)['Contents']\n",
        "    for s3_key in bucket_list:\n",
        "        s3_object = s3_key['Key']\n",
        "        if not s3_object.endswith(\"/\"):\n",
        "            filepath = Path(local_dir)/s3_object\n",
        "            s3.download_file(bucket_name, s3_object, filepath.as_posix())\n",
        "            filecount+=1\n",
        "            files.append(s3_object)\n",
        "        else:\n",
        "            if not (Path(local_dir)/s3_object).exists():\n",
        "                Path.makedirs(Path(local_dir)/s3_object)\n",
        "    return filecount, files"
      ],
      "execution_count": 35,
      "outputs": []
    },
    {
      "cell_type": "code",
      "metadata": {
        "colab": {
          "base_uri": "https://localhost:8080/",
          "height": 324
        },
        "id": "UFftUjTu8GLz",
        "outputId": "67964ac1-79e2-4ef4-8a6a-afa8b4f0657b"
      },
      "source": [
        "filecount, files = download_s3_folder(s3, AWS_STORAGE_BUCKET_NAME, 'emmaus-walking', Path.home()/'tmp')"
      ],
      "execution_count": 36,
      "outputs": []
    },
    {
      "cell_type": "code",
      "execution_count": 37,
      "metadata": {},
      "outputs": [
        {
          "output_type": "stream",
          "name": "stdout",
          "text": [
            "9 files downloaded\n['emmaus-walking/GWW/2020-05-11-095108-Walking-Michael and Ai Leen’s Apple\\xa0Watch.fit', 'emmaus-walking/GWW/2020-05-18-110321-Walking-Michael and Ai Leen’s Apple\\xa0Watch.fit', 'emmaus-walking/GWW/2020-05-25-095315-Walking-Michael and Ai Leen’s Apple\\xa0Watch.fit', 'emmaus-walking/GWW/2020-05-25-115046-Walking-Michael and Ai Leen’s Apple\\xa0Watch.fit', 'emmaus-walking/GWW/2020-06-01-094350-Walking-Michael and Ai Leen’s Apple\\xa0Watch.fit', 'emmaus-walking/GWW/2020-06-15-084936-Walking-Michael and Ai Leen’s Apple\\xa0Watch.fit', 'emmaus-walking/GWW/2020-06-22-085751-Walking-Michael and Ai Leen’s Apple\\xa0Watch.fit', 'emmaus-walking/GWW/2021-03-12-085528-Walking-Michael and Ai Leen’s Apple\\xa0Watch.fit', 'emmaus-walking/GWW/2021-04-03-084312-Walking-Michael and Ai Leen’s Apple\\xa0Watch.fit']\n"
          ]
        }
      ],
      "source": [
        "print(str(filecount) + ' files downloaded')\n",
        "print(files)"
      ]
    },
    {
      "cell_type": "code",
      "execution_count": null,
      "metadata": {},
      "outputs": [],
      "source": []
    }
  ]
}