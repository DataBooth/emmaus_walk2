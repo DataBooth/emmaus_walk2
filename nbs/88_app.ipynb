{
 "cells": [
  {
   "cell_type": "code",
   "execution_count": null,
   "metadata": {
    "hide_input": true
   },
   "outputs": [
    {
     "ename": "ModuleNotFoundError",
     "evalue": "No module named 'nbdev'",
     "output_type": "error",
     "traceback": [
      "\u001b[0;31m---------------------------------------------------------------------------\u001b[0m",
      "\u001b[0;31mModuleNotFoundError\u001b[0m                       Traceback (most recent call last)",
      "\u001b[0;32m<ipython-input-1-8f300aca7d40>\u001b[0m in \u001b[0;36m<module>\u001b[0;34m\u001b[0m\n\u001b[0;32m----> 1\u001b[0;31m \u001b[0;32mfrom\u001b[0m \u001b[0mnbdev\u001b[0m \u001b[0;32mimport\u001b[0m \u001b[0;34m*\u001b[0m\u001b[0;34m\u001b[0m\u001b[0;34m\u001b[0m\u001b[0m\n\u001b[0m",
      "\u001b[0;31mModuleNotFoundError\u001b[0m: No module named 'nbdev'"
     ]
    }
   ],
   "source": [
    "from nbdev import *"
   ]
  },
  {
   "cell_type": "code",
   "execution_count": null,
   "metadata": {},
   "outputs": [
    {
     "name": "stderr",
     "output_type": "stream",
     "text": [
      "UsageError: Line magic function `%nbdev_default_export` not found.\n"
     ]
    }
   ],
   "source": [
    "%nbdev_default_export app"
   ]
  },
  {
   "cell_type": "markdown",
   "metadata": {},
   "source": [
    "# Emmaus Walking Streamlit App\n",
    "\n",
    "> This is the front-end application built in Streamlit (which I believe is not compatible with Jupyter notebooks).\n",
    "> However `nbdev` converts this to a straight .py script by default - which should be possible to `streamlit run`."
   ]
  },
  {
   "cell_type": "code",
   "execution_count": null,
   "metadata": {},
   "outputs": [
    {
     "name": "stderr",
     "output_type": "stream",
     "text": [
      "UsageError: Line magic function `%nbdev_hide` not found.\n"
     ]
    }
   ],
   "source": [
    "%nbdev_hide\n",
    "from nbdev.showdoc import *\n",
    "from fastcore.test import *"
   ]
  },
  {
   "cell_type": "code",
   "execution_count": null,
   "metadata": {},
   "outputs": [
    {
     "name": "stderr",
     "output_type": "stream",
     "text": [
      "UsageError: Line magic function `%nbdev_export` not found.\n"
     ]
    }
   ],
   "source": [
    "%nbdev_export\n",
    "import numpy as np\n",
    "import pandas as pd\n",
    "import datetime as dt\n",
    "import streamlit as st\n",
    "from streamlit_folium import folium_static\n",
    "import folium\n",
    "import os, io\n",
    "import activityio as aio\n",
    "from IPython.display import display\n",
    "from dateutil.parser import parse\n",
    "#import matplotlib\n",
    "\n",
    "\n",
    "#from pandas_profiling import ProfileReport\n",
    "#from streamlit_pandas_profiling import st_profile_report"
   ]
  },
  {
   "cell_type": "code",
   "execution_count": null,
   "metadata": {},
   "outputs": [
    {
     "name": "stderr",
     "output_type": "stream",
     "text": [
      "UsageError: Line magic function `%nbdev_export` not found.\n"
     ]
    }
   ],
   "source": [
    "%nbdev_export\n",
    "DATA_FILE = 'TBA'\n",
    "AUTHOR_INFO = 'AUTHOR: [Michael J. Booth](https://about.me/mjboothaus)'\n",
    "APP_NAME = 'Emmaus Walking Mapping App'"
   ]
  },
  {
   "cell_type": "code",
   "execution_count": null,
   "metadata": {},
   "outputs": [],
   "source": [
    "WALK_NAME = ['Great North Walk', 'Great West Walk', 'Bondi to Manly']"
   ]
  },
  {
   "cell_type": "code",
   "execution_count": null,
   "metadata": {},
   "outputs": [
    {
     "name": "stderr",
     "output_type": "stream",
     "text": [
      "UsageError: Line magic function `%nbdev_export` not found.\n"
     ]
    }
   ],
   "source": [
    "%nbdev_export\n",
    "class SideBar:\n",
    "    datasource = 'DATA: [TBA](http://TBA)'\n",
    "    datasize = 0   # look to calculate this (in MB?) - TEST: Comment change\n",
    "    author = AUTHOR_INFO\n",
    "    title = 'Data details...'\n",
    "    data_local = False\n",
    "    start_date = dt.date.today()\n",
    "    end_date = dt.date.today()\n",
    "    selected_data = None\n",
    "    walk_name = ''\n",
    "\n",
    "\n",
    "def create_sidebar():\n",
    "    WALK_NAME = ['Great North Walk', 'Great West Walk', 'Bondi to Manly']\n",
    "    sb = SideBar()\n",
    "    st.sidebar.markdown(sb.author)\n",
    "    st.sidebar.markdown(sb.datasource)\n",
    "    st.sidebar.info(sb.title)\n",
    "    st.sidebar.markdown('Datasize: ' + str(sb.datasize))\n",
    "    sb.walk_name = st.sidebar.selectbox('Choose a walk', WALK_NAME, 0)\n",
    "    return sb\n",
    "\n",
    "def create_mainscreen(APP_NAME):\n",
    "    st.title(APP_NAME)\n",
    "\n",
    "    # Folium mapping example: center on Sydney Opera House\n",
    "    m = folium.Map(location=[-33.85719805, 151.21512338473752], zoom_start=15)\n",
    "\n",
    "    # add marker for Opera House\n",
    "    tooltip = \"Sydney Opera House\"\n",
    "    folium.Marker(\n",
    "        [-33.85719805, 151.21512338473752], popup=\"Sydney Opera House\", tooltip=tooltip\n",
    "    ).add_to(m)\n",
    "\n",
    "    # call to render Folium map in Streamlit\n",
    "    folium_static(m)\n",
    "\n",
    "def load_walk_data(walk_name):\n",
    "    fit_files = sorted(os.listdir('./data/'))"
   ]
  },
  {
   "cell_type": "code",
   "execution_count": null,
   "metadata": {},
   "outputs": [
    {
     "data": {
      "application/vnd.jupyter.widget-view+json": {
       "model_id": "499a06d376b640c7ae00171f115f0559",
       "version_major": 2,
       "version_minor": 0
      },
      "text/plain": [
       "HBox(children=(FloatProgress(value=0.0, description='Summarize dataset', max=23.0, style=ProgressStyle(descrip…"
      ]
     },
     "metadata": {},
     "output_type": "display_data"
    },
    {
     "name": "stdout",
     "output_type": "stream",
     "text": [
      "\n"
     ]
    },
    {
     "data": {
      "application/vnd.jupyter.widget-view+json": {
       "model_id": "946e361d282641b184023b5b8a113696",
       "version_major": 2,
       "version_minor": 0
      },
      "text/plain": [
       "HBox(children=(FloatProgress(value=0.0, description='Generate report structure', max=1.0, style=ProgressStyle(…"
      ]
     },
     "metadata": {},
     "output_type": "display_data"
    },
    {
     "name": "stdout",
     "output_type": "stream",
     "text": [
      "\n"
     ]
    },
    {
     "data": {
      "application/vnd.jupyter.widget-view+json": {
       "model_id": "08c93b4629334d05b5d4d4cdfb6b05d4",
       "version_major": 2,
       "version_minor": 0
      },
      "text/plain": [
       "HBox(children=(FloatProgress(value=0.0, description='Render HTML', max=1.0, style=ProgressStyle(description_wi…"
      ]
     },
     "metadata": {},
     "output_type": "display_data"
    },
    {
     "name": "stdout",
     "output_type": "stream",
     "text": [
      "\n"
     ]
    }
   ],
   "source": [
    "%nbdev_export\n",
    "sb = create_sidebar()\n",
    "\n",
    "try:\n",
    "    # df = pd.read_csv(DATA_FILE)\n",
    "    \n",
    "    create_mainscreen(APP_NAME)\n",
    "except Exception as e:\n",
    "    st.write(e)\n",
    "    st.write('ERROR: Unable to download data')"
   ]
  },
  {
   "cell_type": "code",
   "execution_count": null,
   "metadata": {},
   "outputs": [],
   "source": [
    "# TODOs:\n",
    "#\n",
    "# Setup drop-down to choose the specific walk to be mapped"
   ]
  },
  {
   "cell_type": "code",
   "execution_count": null,
   "metadata": {},
   "outputs": [],
   "source": []
  }
 ],
 "metadata": {
  "kernelspec": {
   "display_name": ".venv_emmaus_walking",
   "language": "python",
   "name": ".venv_emmaus_walking"
  }
 },
 "nbformat": 4,
 "nbformat_minor": 2
}
