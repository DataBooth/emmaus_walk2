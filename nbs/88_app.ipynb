{
 "cells": [
  {
   "cell_type": "code",
   "execution_count": null,
   "metadata": {
    "hide_input": true
   },
   "outputs": [],
   "source": [
    "from nbdev import *"
   ]
  },
  {
   "cell_type": "code",
   "execution_count": null,
   "metadata": {},
   "outputs": [
    {
     "name": "stdout",
     "output_type": "stream",
     "text": [
      "Cells will be exported to emmaus_walking.app,\n",
      "unless a different module is specified after an export flag: `%nbdev_export special.module`\n"
     ]
    }
   ],
   "source": [
    "%nbdev_default_export app"
   ]
  },
  {
   "cell_type": "markdown",
   "metadata": {},
   "source": [
    "# Emmaus Walking Streamlit App\n",
    "\n",
    "> This is the front-end application built in Streamlit (which I believe is not compatible with Jupyter notebooks).\n",
    "> However `nbdev` converts this to a straight .py script by default - which should be possible to `streamlit run`."
   ]
  },
  {
   "cell_type": "code",
   "execution_count": null,
   "metadata": {},
   "outputs": [],
   "source": [
    "%nbdev_hide\n",
    "from nbdev.showdoc import *\n",
    "from fastcore.test import *"
   ]
  },
  {
   "cell_type": "code",
   "execution_count": null,
   "metadata": {},
   "outputs": [
    {
     "name": "stderr",
     "output_type": "stream",
     "text": [
      "2020-08-15 17:05:07.555 WARNING streamlit.config_option: \n",
      "════════════════════════════════════════════════\n",
      "global.logLevel IS DEPRECATED.\n",
      "global.logLevel has been replaced with logger.level\n",
      "\n",
      "This option will be removed on or after 2020-11-30.\n",
      "\n",
      "Please update /Users/mjboothaus/.streamlit/config.toml.\n",
      "════════════════════════════════════════════════\n",
      "\n"
     ]
    }
   ],
   "source": [
    "%nbdev_export\n",
    "import numpy as np\n",
    "import pandas as pd\n",
    "import datetime as dt\n",
    "import streamlit as st\n",
    "from streamlit_folium import folium_static\n",
    "import folium\n",
    "import os, io\n",
    "import activityio as aio\n",
    "from IPython.display import display\n",
    "from dateutil.parser import parse\n",
    "#import matplotlib\n",
    "\n",
    "\n",
    "#from pandas_profiling import ProfileReport\n",
    "#from streamlit_pandas_profiling import st_profile_report"
   ]
  },
  {
   "cell_type": "code",
   "execution_count": null,
   "metadata": {},
   "outputs": [],
   "source": [
    "%nbdev_export\n",
    "DATA_INFO = 'Health Fit / Apple Watch (Author)'\n",
    "AUTHOR_INFO = 'AUTHOR: [Michael J. Booth](https://about.me/mjboothaus)'\n",
    "APP_NAME = 'Emmaus Walking Mapping App'"
   ]
  },
  {
   "cell_type": "code",
   "execution_count": null,
   "metadata": {},
   "outputs": [],
   "source": [
    "%nbdev_export\n",
    "\n",
    "# TODO: use st.cache() and also look to pre-load and cache/feather data (or similar)\n",
    "def load_walk_data(walk_name):\n",
    "    FIT_FILE_PATH = '/Users/mjboothaus/iCloud/Data/HealthFit/'\n",
    "    data_dir = FIT_FILE_PATH + walk_name[0:3] + '/'\n",
    "    data_files = [file for file in os.listdir(data_dir) if file.endswith('.fit')]\n",
    "    data_files = sorted(data_files)\n",
    "\n",
    "    walk_data = []\n",
    "    walk_date = []\n",
    "    \n",
    "    for iFile, file in enumerate(data_files):\n",
    "        walk_data.append(pd.DataFrame(aio.read(data_dir + file)))\n",
    "        walk_date.append(parse(file[0:17]))\n",
    "    return walk_data, walk_date\n",
    "\n",
    "\n",
    "def calc_walk_stats(walk_data):\n",
    "    total_time = dt.timedelta(0)\n",
    "    total_distance = 0\n",
    "\n",
    "    for iHike, hike in enumerate(walk_data):\n",
    "        total_time += hike.index.max()\n",
    "        print(iHike+1, walk_date[iHike], hike.index.max(), hike['dist'].max()/1e3)\n",
    "        total_distance += hike['dist'].max()\n",
    "        total_distance = total_distance / 1e3\n",
    "\n",
    "    start_coord = walk_data[0][['lat', 'lon']].iloc[0].tolist()\n",
    "    end_coord = walk_data[-1][['lat', 'lon']].iloc[-1].tolist()\n",
    "    return total_time, total_distance, start_coord, end_coord\n",
    "\n",
    "\n",
    "def plot_walk(walk_df, map_handle, walk_colour, freq=100):\n",
    "    points = []\n",
    "    count = 0\n",
    "    for index, row in walk_df.iterrows():\n",
    "        count+=1\n",
    "        if count%freq == 0:\n",
    "            points.append((row['lat'], row['lon']))\n",
    "            folium.PolyLine(points, color=walk_colour, weight=8).add_to(map_handle)\n",
    "\n",
    "\n",
    "def plot_entire_walk(walk_data, map_handle):\n",
    "    for iHike, hike in enumerate(walk_data):\n",
    "        plot_walk(hike, map_handle, 'blue')"
   ]
  },
  {
   "cell_type": "code",
   "execution_count": null,
   "metadata": {},
   "outputs": [],
   "source": [
    "# load_walk_data('B2M')"
   ]
  },
  {
   "cell_type": "code",
   "execution_count": null,
   "metadata": {},
   "outputs": [],
   "source": [
    "%nbdev_export\n",
    "class SideBar:\n",
    "    datasource = DATA_INFO\n",
    "    datasize = 0   # look to calculate this (in MB?) - TEST: Comment change\n",
    "    author = AUTHOR_INFO\n",
    "    title = 'Data details...'\n",
    "    data_local = False\n",
    "    start_date = dt.date.today()\n",
    "    end_date = dt.date.today()\n",
    "    selected_data = None\n",
    "    walk_name = ''\n",
    "\n",
    "\n",
    "def app_sidebar():\n",
    "    WALK_NAME = ['B2M: Bondi to Manly', 'GNW: Great North Walk', 'GWW: Great West Walk']\n",
    "    # WALK_SUBDIR_NAME = ['GNW', 'GWW', 'B2M']\n",
    "    sb = SideBar()\n",
    "    st.sidebar.markdown(sb.author)\n",
    "    st.sidebar.markdown(sb.datasource)\n",
    "    st.sidebar.info(sb.title)\n",
    "    st.sidebar.markdown('Datasize: ' + str(sb.datasize))\n",
    "    sb.walk_name = st.sidebar.selectbox('Choose a walk', WALK_NAME, 0)\n",
    "    return sb\n",
    "\n",
    "def app_mainscreen(APP_NAME, sb):\n",
    "    st.title(APP_NAME)\n",
    "\n",
    "    # Load walking data\n",
    "    walk_data, walk_date = load_walk_data(sb.walk_name)\n",
    "\n",
    "    # Folium mapping example: center on Sydney Opera House\n",
    "    # m = folium.Map(location=[-33.85719805, 151.21512338473752], zoom_start=15)\n",
    "    \n",
    "    total_time, total_distance, start_coord, end_coord = calc_walk_stats(walk_data)\n",
    "\n",
    "    map_handle = folium.Map(start_coord, zoom_start=13, detect_retina=True, control_scale=True)\n",
    "    \n",
    "    plot_entire_walk(walk_data, map_handle)\n",
    "    \n",
    "    map_handle.fit_bounds(map_handle.get_bounds())\n",
    "\n",
    "    # add marker for Opera House\n",
    "    #tooltip = \"Sydney Opera House\"\n",
    "    #folium.Marker(\n",
    "    #    [-33.85719805, 151.21512338473752], popup=\"Sydney Opera House\", tooltip=tooltip\n",
    "    #).add_to(m)\n",
    "\n",
    "    # call to render Folium map in Streamlit\n",
    "    \n",
    "    st.write(sb.walk_name)\n",
    "    st.write('Total time: ' + total_time)\n",
    "    st.write('Total distance: ' + total_distance)\n",
    "\n",
    "    folium_static(map_handle)"
   ]
  },
  {
   "cell_type": "code",
   "execution_count": null,
   "metadata": {},
   "outputs": [],
   "source": [
    "%nbdev_export\n",
    "def notebook_mainscreen(APP_NAME, sb):\n",
    "    print(APP_NAME)\n",
    "\n",
    "    # Load walking data\n",
    "    walk_data, walk_date = load_walk_data(sb.walk_name)\n",
    "    \n",
    "    total_time, total_distance, start_coord, end_coord = calc_walk_stats(walk_data)\n",
    "\n",
    "    map_handle = folium.Map(start_coord, zoom_start=13, detect_retina=True, control_scale=True)\n",
    "    map_handle.fit_bounds(map_handle.get_bounds())\n",
    "    \n",
    "    print(sb.walk_name)\n",
    "    print('Total time: ', total_time)\n",
    "    print('Total distance: ', total_distance)\n",
    "\n",
    "    return map_handle, walk_data, walk_date"
   ]
  },
  {
   "cell_type": "code",
   "execution_count": null,
   "metadata": {},
   "outputs": [
    {
     "name": "stdout",
     "output_type": "stream",
     "text": [
      "Emmaus Walking Mapping App\n",
      "1 2020-07-13 08:54:52 0 days 03:52:13 12.57696\n",
      "2 2020-07-20 08:57:13 0 days 04:10:26 16.39576\n",
      "3 2020-07-28 10:40:39 0 days 02:21:07 10.3525\n",
      "4 2020-08-14 11:09:16 0 days 02:25:50 8.60733\n",
      "B2M: Bondi to Manly\n",
      "Total time:  0 days 12:49:36\n",
      "Total distance:  8.61769890833696\n"
     ]
    }
   ],
   "source": [
    "%nbdev_export\n",
    "sb = app_sidebar()\n",
    "\n",
    "#try: \n",
    "    #app_mainscreen(APP_NAME, sb)\n",
    "map_handle, walk_data, walk_date = notebook_mainscreen(APP_NAME, sb)\n",
    "#except Exception as e:\n",
    "#    st.write(e)\n",
    "#    st.write('ERROR: Unable to download data')"
   ]
  },
  {
   "cell_type": "code",
   "execution_count": null,
   "metadata": {},
   "outputs": [
    {
     "data": {
      "text/plain": [
       "4"
      ]
     },
     "execution_count": null,
     "metadata": {},
     "output_type": "execute_result"
    }
   ],
   "source": [
    "len(walk_data)"
   ]
  },
  {
   "cell_type": "code",
   "execution_count": null,
   "metadata": {},
   "outputs": [
    {
     "data": {
      "text/html": [
       "<div style=\"width:100%;\"><div style=\"position:relative;width:100%;height:0;padding-bottom:60%;\"><span style=\"color:#565656\">Make this Notebook Trusted to load map: File -> Trust Notebook</span><iframe src=\"about:blank\" style=\"position:absolute;width:100%;height:100%;left:0;top:0;border:none !important;\" data-html=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 onload=\"this.contentDocument.open();this.contentDocument.write(atob(this.getAttribute('data-html')));this.contentDocument.close();\" allowfullscreen webkitallowfullscreen mozallowfullscreen></iframe></div></div>"
      ],
      "text/plain": [
       "<folium.folium.Map at 0x1206cb250>"
      ]
     },
     "execution_count": null,
     "metadata": {},
     "output_type": "execute_result"
    }
   ],
   "source": [
    "map_handle"
   ]
  },
  {
   "cell_type": "code",
   "execution_count": null,
   "metadata": {},
   "outputs": [],
   "source": [
    "%nbdev_export\n",
    "# TODOs:\n",
    "#\n",
    "# Setup drop-down to choose the specific walk to be mapped"
   ]
  }
 ],
 "metadata": {
  "kernelspec": {
   "display_name": ".venv_emmaus_walking",
   "language": "python",
   "name": ".venv_emmaus_walking"
  }
 },
 "nbformat": 4,
 "nbformat_minor": 2
}
